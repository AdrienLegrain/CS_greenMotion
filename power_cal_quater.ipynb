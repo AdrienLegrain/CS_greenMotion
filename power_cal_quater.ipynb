{
 "cells": [
  {
   "cell_type": "code",
   "execution_count": 18,
   "metadata": {},
   "outputs": [],
   "source": [
    "import pandas as pd\n",
    "import numpy as np\n",
    "import matplotlib.pyplot as plt\n",
    "pd.options.mode.chained_assignment = None  # default='warn', Mutes warnings when copying a slice from a DataFrame.\n",
    "import math\n",
    "from math import sqrt\n",
    "import re\n",
    "from datetime import datetime\n",
    "import datetime\n",
    "import time"
   ]
  },
  {
   "cell_type": "code",
   "execution_count": 2,
   "metadata": {},
   "outputs": [],
   "source": [
    "DATA_FOLDER = 'data'"
   ]
  },
  {
   "cell_type": "markdown",
   "metadata": {},
   "source": [
    "   "
   ]
  },
  {
   "cell_type": "markdown",
   "metadata": {},
   "source": [
    "### A. Loading consumption phase\n",
    "Load the EPFL charging stations excel file into a `DataFrames`. "
   ]
  },
  {
   "cell_type": "code",
   "execution_count": 3,
   "metadata": {},
   "outputs": [],
   "source": [
    "cs_dataframe = pd.read_excel(\"{}/EPFL-data-extract.xlsx\".format(DATA_FOLDER), index_col=0) "
   ]
  },
  {
   "cell_type": "code",
   "execution_count": 37,
   "metadata": {},
   "outputs": [],
   "source": [
    "def nb_minutes(EndDate, BeginDate):\n",
    "    delta = EndDate - BeginDate\n",
    "    nb_min_final_day = delta.seconds//60\n",
    "    nb_days = delta.days\n",
    "    nb_min = nb_min_final_day + nb_days*24*60 + 1\n",
    "    return nb_min"
   ]
  },
  {
   "cell_type": "code",
   "execution_count": 38,
   "metadata": {},
   "outputs": [
    {
     "data": {
      "text/html": [
       "<div>\n",
       "<style scoped>\n",
       "    .dataframe tbody tr th:only-of-type {\n",
       "        vertical-align: middle;\n",
       "    }\n",
       "\n",
       "    .dataframe tbody tr th {\n",
       "        vertical-align: top;\n",
       "    }\n",
       "\n",
       "    .dataframe thead th {\n",
       "        text-align: right;\n",
       "    }\n",
       "</style>\n",
       "<table border=\"1\" class=\"dataframe\">\n",
       "  <thead>\n",
       "    <tr style=\"text-align: right;\">\n",
       "      <th></th>\n",
       "      <th>ChargingStationId</th>\n",
       "      <th>ChargingStationPlugId</th>\n",
       "      <th>BeginDate</th>\n",
       "      <th>EndDate</th>\n",
       "      <th>PowerConsumption</th>\n",
       "      <th>HashedUserId</th>\n",
       "      <th>ChargingDuration</th>\n",
       "      <th>Power</th>\n",
       "    </tr>\n",
       "    <tr>\n",
       "      <th>ChargeLogId</th>\n",
       "      <th></th>\n",
       "      <th></th>\n",
       "      <th></th>\n",
       "      <th></th>\n",
       "      <th></th>\n",
       "      <th></th>\n",
       "      <th></th>\n",
       "      <th></th>\n",
       "    </tr>\n",
       "  </thead>\n",
       "  <tbody>\n",
       "    <tr>\n",
       "      <th>4911</th>\n",
       "      <td>118</td>\n",
       "      <td>165</td>\n",
       "      <td>2013-11-22 09:02:37</td>\n",
       "      <td>2013-11-22 09:03:09</td>\n",
       "      <td>0</td>\n",
       "      <td>0x725B61EAA9973F5EF7FE6BE2033C5F264982C8C04ED3...</td>\n",
       "      <td>1</td>\n",
       "      <td>0.0</td>\n",
       "    </tr>\n",
       "    <tr>\n",
       "      <th>4912</th>\n",
       "      <td>118</td>\n",
       "      <td>166</td>\n",
       "      <td>2013-11-22 09:02:49</td>\n",
       "      <td>2013-11-22 09:03:21</td>\n",
       "      <td>0</td>\n",
       "      <td>0x70BD1D7BE1297329FE64409179DA9D1B789BE5283D0C...</td>\n",
       "      <td>1</td>\n",
       "      <td>0.0</td>\n",
       "    </tr>\n",
       "    <tr>\n",
       "      <th>4913</th>\n",
       "      <td>118</td>\n",
       "      <td>166</td>\n",
       "      <td>2013-11-22 09:08:29</td>\n",
       "      <td>2013-11-22 09:09:17</td>\n",
       "      <td>0</td>\n",
       "      <td>0x70BD1D7BE1297329FE64409179DA9D1B789BE5283D0C...</td>\n",
       "      <td>1</td>\n",
       "      <td>0.0</td>\n",
       "    </tr>\n",
       "    <tr>\n",
       "      <th>4914</th>\n",
       "      <td>118</td>\n",
       "      <td>166</td>\n",
       "      <td>2013-11-22 09:10:36</td>\n",
       "      <td>2013-11-22 09:10:54</td>\n",
       "      <td>0</td>\n",
       "      <td>0x70BD1D7BE1297329FE64409179DA9D1B789BE5283D0C...</td>\n",
       "      <td>1</td>\n",
       "      <td>0.0</td>\n",
       "    </tr>\n",
       "    <tr>\n",
       "      <th>4915</th>\n",
       "      <td>118</td>\n",
       "      <td>166</td>\n",
       "      <td>2013-11-22 09:11:57</td>\n",
       "      <td>2013-11-22 09:12:13</td>\n",
       "      <td>0</td>\n",
       "      <td>0x70BD1D7BE1297329FE64409179DA9D1B789BE5283D0C...</td>\n",
       "      <td>1</td>\n",
       "      <td>0.0</td>\n",
       "    </tr>\n",
       "  </tbody>\n",
       "</table>\n",
       "</div>"
      ],
      "text/plain": [
       "             ChargingStationId  ChargingStationPlugId           BeginDate  \\\n",
       "ChargeLogId                                                                 \n",
       "4911                       118                    165 2013-11-22 09:02:37   \n",
       "4912                       118                    166 2013-11-22 09:02:49   \n",
       "4913                       118                    166 2013-11-22 09:08:29   \n",
       "4914                       118                    166 2013-11-22 09:10:36   \n",
       "4915                       118                    166 2013-11-22 09:11:57   \n",
       "\n",
       "                        EndDate  PowerConsumption  \\\n",
       "ChargeLogId                                         \n",
       "4911        2013-11-22 09:03:09                 0   \n",
       "4912        2013-11-22 09:03:21                 0   \n",
       "4913        2013-11-22 09:09:17                 0   \n",
       "4914        2013-11-22 09:10:54                 0   \n",
       "4915        2013-11-22 09:12:13                 0   \n",
       "\n",
       "                                                  HashedUserId  \\\n",
       "ChargeLogId                                                      \n",
       "4911         0x725B61EAA9973F5EF7FE6BE2033C5F264982C8C04ED3...   \n",
       "4912         0x70BD1D7BE1297329FE64409179DA9D1B789BE5283D0C...   \n",
       "4913         0x70BD1D7BE1297329FE64409179DA9D1B789BE5283D0C...   \n",
       "4914         0x70BD1D7BE1297329FE64409179DA9D1B789BE5283D0C...   \n",
       "4915         0x70BD1D7BE1297329FE64409179DA9D1B789BE5283D0C...   \n",
       "\n",
       "             ChargingDuration  Power  \n",
       "ChargeLogId                           \n",
       "4911                        1    0.0  \n",
       "4912                        1    0.0  \n",
       "4913                        1    0.0  \n",
       "4914                        1    0.0  \n",
       "4915                        1    0.0  "
      ]
     },
     "execution_count": 38,
     "metadata": {},
     "output_type": "execute_result"
    }
   ],
   "source": [
    "delta_vect = cs_dataframe.apply(lambda x : nb_minutes(x.EndDate, x.BeginDate), axis=1) #compute minutes of charge\n",
    "cs_dataframe[\"ChargingDuration\"] = delta_vect \n",
    "cs_dataframe[\"Power\"] = cs_dataframe[\"PowerConsumption\"] / cs_dataframe[\"ChargingDuration\"] * 60 # compute power\n",
    "#cs_df = cs_dataframe.drop('HashedUserId', axis=1)\n",
    "cs_df = cs_dataframe\n",
    "cs_df.head()"
   ]
  },
  {
   "cell_type": "markdown",
   "metadata": {},
   "source": [
    "Let's remove unrealistic charging powers:"
   ]
  },
  {
   "cell_type": "code",
   "execution_count": 39,
   "metadata": {},
   "outputs": [],
   "source": [
    "cs_df_clean = cs_df[cs_df.Power < 30000] # removing outliers (P>30kW...)"
   ]
  },
  {
   "cell_type": "markdown",
   "metadata": {},
   "source": [
    "### A.2 clustering each data into a hour-form"
   ]
  },
  {
   "cell_type": "code",
   "execution_count": 61,
   "metadata": {},
   "outputs": [],
   "source": [
    "# year 2018,2019,2020 data\n",
    "df = cs_df_clean[cs_df_clean.BeginDate.dt.year.isin([2020,2019,2018])]\n",
    "df = df.reset_index()\n",
    "df = df.drop(['ChargeLogId'],axis =1)"
   ]
  },
  {
   "cell_type": "code",
   "execution_count": 53,
   "metadata": {},
   "outputs": [
    {
     "data": {
      "text/plain": [
       "'04'"
      ]
     },
     "execution_count": 53,
     "metadata": {},
     "output_type": "execute_result"
    }
   ],
   "source": [
    "df.loc[1].BeginDate.strftime(\"%Y-%m-%d %H:%M\")[-2:]"
   ]
  },
  {
   "cell_type": "code",
   "execution_count": 67,
   "metadata": {},
   "outputs": [],
   "source": [
    "df['BD'] = df['BeginDate'].dt.date"
   ]
  },
  {
   "cell_type": "code",
   "execution_count": 69,
   "metadata": {},
   "outputs": [],
   "source": [
    "df['ED'] = df['EndDate'].dt.date"
   ]
  },
  {
   "cell_type": "code",
   "execution_count": 73,
   "metadata": {},
   "outputs": [],
   "source": [
    "df['BT'] = df['BeginDate'].dt.hour"
   ]
  },
  {
   "cell_type": "code",
   "execution_count": 74,
   "metadata": {},
   "outputs": [],
   "source": [
    "df['ET'] = df['EndDate'].dt.hour"
   ]
  },
  {
   "cell_type": "code",
   "execution_count": 75,
   "metadata": {},
   "outputs": [
    {
     "data": {
      "text/html": [
       "<div>\n",
       "<style scoped>\n",
       "    .dataframe tbody tr th:only-of-type {\n",
       "        vertical-align: middle;\n",
       "    }\n",
       "\n",
       "    .dataframe tbody tr th {\n",
       "        vertical-align: top;\n",
       "    }\n",
       "\n",
       "    .dataframe thead th {\n",
       "        text-align: right;\n",
       "    }\n",
       "</style>\n",
       "<table border=\"1\" class=\"dataframe\">\n",
       "  <thead>\n",
       "    <tr style=\"text-align: right;\">\n",
       "      <th></th>\n",
       "      <th>ChargingStationId</th>\n",
       "      <th>ChargingStationPlugId</th>\n",
       "      <th>BeginDate</th>\n",
       "      <th>EndDate</th>\n",
       "      <th>PowerConsumption</th>\n",
       "      <th>HashedUserId</th>\n",
       "      <th>ChargingDuration</th>\n",
       "      <th>Power</th>\n",
       "      <th>BD</th>\n",
       "      <th>ED</th>\n",
       "      <th>BT</th>\n",
       "      <th>ET</th>\n",
       "    </tr>\n",
       "  </thead>\n",
       "  <tbody>\n",
       "    <tr>\n",
       "      <th>0</th>\n",
       "      <td>118</td>\n",
       "      <td>165</td>\n",
       "      <td>2018-01-03 10:19:46</td>\n",
       "      <td>2018-01-03 14:20:31</td>\n",
       "      <td>14665</td>\n",
       "      <td>0xE3EE93EC9E2473941860A1D21A97DD2ACEBF4E61DCAE...</td>\n",
       "      <td>241</td>\n",
       "      <td>3651.037344</td>\n",
       "      <td>2018-01-03</td>\n",
       "      <td>2018-01-03</td>\n",
       "      <td>10</td>\n",
       "      <td>14</td>\n",
       "    </tr>\n",
       "    <tr>\n",
       "      <th>1</th>\n",
       "      <td>118</td>\n",
       "      <td>166</td>\n",
       "      <td>2018-01-04 07:04:55</td>\n",
       "      <td>2018-01-04 12:31:54</td>\n",
       "      <td>11356</td>\n",
       "      <td>0xF0E30B0390A82D376F4AD684B97355C14F81CC98249B...</td>\n",
       "      <td>327</td>\n",
       "      <td>2083.669725</td>\n",
       "      <td>2018-01-04</td>\n",
       "      <td>2018-01-04</td>\n",
       "      <td>7</td>\n",
       "      <td>12</td>\n",
       "    </tr>\n",
       "    <tr>\n",
       "      <th>2</th>\n",
       "      <td>118</td>\n",
       "      <td>165</td>\n",
       "      <td>2018-01-04 08:40:47</td>\n",
       "      <td>2018-01-04 13:39:15</td>\n",
       "      <td>12538</td>\n",
       "      <td>0xE3EE93EC9E2473941860A1D21A97DD2ACEBF4E61DCAE...</td>\n",
       "      <td>299</td>\n",
       "      <td>2515.986622</td>\n",
       "      <td>2018-01-04</td>\n",
       "      <td>2018-01-04</td>\n",
       "      <td>8</td>\n",
       "      <td>13</td>\n",
       "    </tr>\n",
       "    <tr>\n",
       "      <th>3</th>\n",
       "      <td>118</td>\n",
       "      <td>165</td>\n",
       "      <td>2018-01-04 14:29:42</td>\n",
       "      <td>2018-01-04 15:39:32</td>\n",
       "      <td>10722</td>\n",
       "      <td>0x0897DA94B961CB920DB3A1EF91F3B59C40A18BFB1CAA...</td>\n",
       "      <td>70</td>\n",
       "      <td>9190.285714</td>\n",
       "      <td>2018-01-04</td>\n",
       "      <td>2018-01-04</td>\n",
       "      <td>14</td>\n",
       "      <td>15</td>\n",
       "    </tr>\n",
       "    <tr>\n",
       "      <th>4</th>\n",
       "      <td>118</td>\n",
       "      <td>166</td>\n",
       "      <td>2018-01-04 12:36:53</td>\n",
       "      <td>2018-01-04 16:09:33</td>\n",
       "      <td>2084</td>\n",
       "      <td>0xF17F83E4B3CA8A59E52ECFE331867F57D30E667A8116...</td>\n",
       "      <td>213</td>\n",
       "      <td>587.042254</td>\n",
       "      <td>2018-01-04</td>\n",
       "      <td>2018-01-04</td>\n",
       "      <td>12</td>\n",
       "      <td>16</td>\n",
       "    </tr>\n",
       "  </tbody>\n",
       "</table>\n",
       "</div>"
      ],
      "text/plain": [
       "   ChargingStationId  ChargingStationPlugId           BeginDate  \\\n",
       "0                118                    165 2018-01-03 10:19:46   \n",
       "1                118                    166 2018-01-04 07:04:55   \n",
       "2                118                    165 2018-01-04 08:40:47   \n",
       "3                118                    165 2018-01-04 14:29:42   \n",
       "4                118                    166 2018-01-04 12:36:53   \n",
       "\n",
       "              EndDate  PowerConsumption  \\\n",
       "0 2018-01-03 14:20:31             14665   \n",
       "1 2018-01-04 12:31:54             11356   \n",
       "2 2018-01-04 13:39:15             12538   \n",
       "3 2018-01-04 15:39:32             10722   \n",
       "4 2018-01-04 16:09:33              2084   \n",
       "\n",
       "                                        HashedUserId  ChargingDuration  \\\n",
       "0  0xE3EE93EC9E2473941860A1D21A97DD2ACEBF4E61DCAE...               241   \n",
       "1  0xF0E30B0390A82D376F4AD684B97355C14F81CC98249B...               327   \n",
       "2  0xE3EE93EC9E2473941860A1D21A97DD2ACEBF4E61DCAE...               299   \n",
       "3  0x0897DA94B961CB920DB3A1EF91F3B59C40A18BFB1CAA...                70   \n",
       "4  0xF17F83E4B3CA8A59E52ECFE331867F57D30E667A8116...               213   \n",
       "\n",
       "         Power          BD          ED  BT  ET  \n",
       "0  3651.037344  2018-01-03  2018-01-03  10  14  \n",
       "1  2083.669725  2018-01-04  2018-01-04   7  12  \n",
       "2  2515.986622  2018-01-04  2018-01-04   8  13  \n",
       "3  9190.285714  2018-01-04  2018-01-04  14  15  \n",
       "4   587.042254  2018-01-04  2018-01-04  12  16  "
      ]
     },
     "execution_count": 75,
     "metadata": {},
     "output_type": "execute_result"
    }
   ],
   "source": [
    "df.head()"
   ]
  },
  {
   "cell_type": "code",
   "execution_count": 160,
   "metadata": {},
   "outputs": [],
   "source": [
    "df_quater = pd.DataFrame()\n",
    "def power_quater(x):\n",
    "    global df_quater\n",
    "        \n",
    "    start_minute = int(x.BeginDate.strftime(\"%Y-%m-%d %H:%M\")[-2:])\n",
    "   # timesteps = int((x.ChargingDuration - (60 - start_minute))/15) +1 \\+ int((60 - start_minute)/15) + 1\n",
    "    year = x.BeginDate.year\n",
    "    month = x.BeginDate.month\n",
    "    day = x.BeginDate.day\n",
    "    hour = x.BeginDate.hour\n",
    "    start_time = datetime.datetime(year,month,day,hour,15*int(start_minute/15))\n",
    "\n",
    "        \n",
    "    while start_time <= x.EndDate:\n",
    "        delt = datetime.timedelta(minutes = 15)\n",
    "        power_detail = [[start_time, x.Power]]\n",
    "        df_quater = df_quater.append(power_detail)\n",
    "        start_time += delt\n"
   ]
  },
  {
   "cell_type": "code",
   "execution_count": 161,
   "metadata": {},
   "outputs": [
    {
     "data": {
      "text/plain": [
       "0        None\n",
       "1        None\n",
       "2        None\n",
       "3        None\n",
       "4        None\n",
       "         ... \n",
       "10176    None\n",
       "10177    None\n",
       "10178    None\n",
       "10179    None\n",
       "10180    None\n",
       "Length: 10181, dtype: object"
      ]
     },
     "execution_count": 161,
     "metadata": {},
     "output_type": "execute_result"
    }
   ],
   "source": [
    "df.apply(lambda x: power_quater(x), axis = 1)"
   ]
  },
  {
   "cell_type": "code",
   "execution_count": 164,
   "metadata": {},
   "outputs": [],
   "source": [
    "df_quater.columns = ['Date', 'Power']"
   ]
  },
  {
   "cell_type": "code",
   "execution_count": 169,
   "metadata": {},
   "outputs": [],
   "source": [
    "his_char = pd.DataFrame(df_quater.groupby('Date').Power.sum()).reset_index()"
   ]
  },
  {
   "cell_type": "code",
   "execution_count": 173,
   "metadata": {},
   "outputs": [
    {
     "data": {
      "text/html": [
       "<div>\n",
       "<style scoped>\n",
       "    .dataframe tbody tr th:only-of-type {\n",
       "        vertical-align: middle;\n",
       "    }\n",
       "\n",
       "    .dataframe tbody tr th {\n",
       "        vertical-align: top;\n",
       "    }\n",
       "\n",
       "    .dataframe thead th {\n",
       "        text-align: right;\n",
       "    }\n",
       "</style>\n",
       "<table border=\"1\" class=\"dataframe\">\n",
       "  <thead>\n",
       "    <tr style=\"text-align: right;\">\n",
       "      <th></th>\n",
       "      <th>Date</th>\n",
       "      <th>Power</th>\n",
       "    </tr>\n",
       "  </thead>\n",
       "  <tbody>\n",
       "    <tr>\n",
       "      <th>41290</th>\n",
       "      <td>2020-03-09 05:00:00</td>\n",
       "      <td>9602.857143</td>\n",
       "    </tr>\n",
       "    <tr>\n",
       "      <th>41291</th>\n",
       "      <td>2020-03-09 05:15:00</td>\n",
       "      <td>9602.857143</td>\n",
       "    </tr>\n",
       "    <tr>\n",
       "      <th>41292</th>\n",
       "      <td>2020-03-09 05:30:00</td>\n",
       "      <td>12735.238095</td>\n",
       "    </tr>\n",
       "    <tr>\n",
       "      <th>41293</th>\n",
       "      <td>2020-03-09 05:45:00</td>\n",
       "      <td>12735.238095</td>\n",
       "    </tr>\n",
       "    <tr>\n",
       "      <th>41294</th>\n",
       "      <td>2020-03-09 06:00:00</td>\n",
       "      <td>12735.238095</td>\n",
       "    </tr>\n",
       "    <tr>\n",
       "      <th>...</th>\n",
       "      <td>...</td>\n",
       "      <td>...</td>\n",
       "    </tr>\n",
       "    <tr>\n",
       "      <th>41361</th>\n",
       "      <td>2020-03-09 22:45:00</td>\n",
       "      <td>3723.192488</td>\n",
       "    </tr>\n",
       "    <tr>\n",
       "      <th>41362</th>\n",
       "      <td>2020-03-09 23:00:00</td>\n",
       "      <td>3723.192488</td>\n",
       "    </tr>\n",
       "    <tr>\n",
       "      <th>41363</th>\n",
       "      <td>2020-03-09 23:15:00</td>\n",
       "      <td>3723.192488</td>\n",
       "    </tr>\n",
       "    <tr>\n",
       "      <th>41364</th>\n",
       "      <td>2020-03-09 23:30:00</td>\n",
       "      <td>3723.192488</td>\n",
       "    </tr>\n",
       "    <tr>\n",
       "      <th>41365</th>\n",
       "      <td>2020-03-09 23:45:00</td>\n",
       "      <td>3723.192488</td>\n",
       "    </tr>\n",
       "  </tbody>\n",
       "</table>\n",
       "<p>76 rows × 2 columns</p>\n",
       "</div>"
      ],
      "text/plain": [
       "                     Date         Power\n",
       "41290 2020-03-09 05:00:00   9602.857143\n",
       "41291 2020-03-09 05:15:00   9602.857143\n",
       "41292 2020-03-09 05:30:00  12735.238095\n",
       "41293 2020-03-09 05:45:00  12735.238095\n",
       "41294 2020-03-09 06:00:00  12735.238095\n",
       "...                   ...           ...\n",
       "41361 2020-03-09 22:45:00   3723.192488\n",
       "41362 2020-03-09 23:00:00   3723.192488\n",
       "41363 2020-03-09 23:15:00   3723.192488\n",
       "41364 2020-03-09 23:30:00   3723.192488\n",
       "41365 2020-03-09 23:45:00   3723.192488\n",
       "\n",
       "[76 rows x 2 columns]"
      ]
     },
     "execution_count": 173,
     "metadata": {},
     "output_type": "execute_result"
    }
   ],
   "source": [
    "his_char[his_char.Date.dt.date == datetime.date(2020,3,9)]"
   ]
  },
  {
   "cell_type": "markdown",
   "metadata": {},
   "source": [
    "#### to compensate missing time"
   ]
  },
  {
   "cell_type": "code",
   "execution_count": 271,
   "metadata": {},
   "outputs": [],
   "source": [
    "begin = datetime.datetime(2018,1,2,0,0,0)\n",
    "end = datetime.datetime(2020,3,12,23,45,0)\n",
    "\n",
    "d = begin\n",
    "delta = datetime.timedelta(minutes = 15)\n",
    "power_list = his_char\n",
    "\n",
    "while d <= end:\n",
    "    if d not in pd.to_datetime(power_list.Date.values):\n",
    "        new = pd.DataFrame([[d, 0]])\n",
    "        new.columns = ['Date', 'Power']\n",
    "        power_list = power_list.append(new)\n",
    "        d += delta\n",
    "    else:\n",
    "        d += delta\n",
    "        continue"
   ]
  },
  {
   "cell_type": "code",
   "execution_count": 272,
   "metadata": {},
   "outputs": [],
   "source": [
    "power_list = power_list.sort_values(by = ['Date'], ascending = True).reset_index(drop = True)"
   ]
  },
  {
   "cell_type": "code",
   "execution_count": 274,
   "metadata": {},
   "outputs": [],
   "source": [
    "aa = power_list[power_list.Date.dt.date == datetime.date(2020,3,10)].Power/1000"
   ]
  },
  {
   "cell_type": "code",
   "execution_count": 275,
   "metadata": {},
   "outputs": [
    {
     "data": {
      "text/plain": [
       "Text(0.5, 0, 'Time [h]')"
      ]
     },
     "execution_count": 275,
     "metadata": {},
     "output_type": "execute_result"
    },
    {
     "data": {
      "image/png": "[encoded data removed]",
      "text/plain": [
       "<Figure size 1440x360 with 1 Axes>"
      ]
     },
     "metadata": {
      "needs_background": "light"
     },
     "output_type": "display_data"
    }
   ],
   "source": [
    "plt.figure(figsize=(20,5))\n",
    "plt.plot(aa)\n",
    "plt.title('Aggregated EV charging power at EPFL (09/03/20)')\n",
    "plt.ylabel(r'$P_{charging} [kW]$')\n",
    "plt.xlabel('Time [h]')"
   ]
  },
  {
   "cell_type": "markdown",
   "metadata": {},
   "source": [
    "### A.3 Add weather data"
   ]
  },
  {
   "cell_type": "code",
   "execution_count": 354,
   "metadata": {},
   "outputs": [
    {
     "name": "stderr",
     "output_type": "stream",
     "text": [
      "/Users/mac/opt/anaconda3/lib/python3.7/site-packages/IPython/core/interactiveshell.py:3058: DtypeWarning: Columns (17) have mixed types. Specify dtype option on import or set low_memory=False.\n",
      "  interactivity=interactivity, compiler=compiler, result=result)\n"
     ]
    }
   ],
   "source": [
    "cs_weather = pd.read_csv('{}/weather.csv'.format(DATA_FOLDER), index_col = None)"
   ]
  },
  {
   "cell_type": "code",
   "execution_count": 355,
   "metadata": {},
   "outputs": [],
   "source": [
    "Cha = ['Year','Month','Day','Hour','TMP','WNDCHILL','WNDSPD','Humidity','PRMSL','RAIN']\n",
    "cs_weather = cs_weather[Cha]"
   ]
  },
  {
   "cell_type": "code",
   "execution_count": 356,
   "metadata": {},
   "outputs": [],
   "source": [
    "cs_weather['RAIN'] = cs_weather['RAIN']\\\n",
    ".apply(lambda x: float(x.split('/')[0]) if x != '--' else float(0))"
   ]
  },
  {
   "cell_type": "code",
   "execution_count": 357,
   "metadata": {},
   "outputs": [],
   "source": [
    "weather = cs_weather.reset_index(drop=True)"
   ]
  },
  {
   "cell_type": "code",
   "execution_count": 358,
   "metadata": {},
   "outputs": [],
   "source": [
    "weather['Hour'] = weather['Hour'].apply(lambda x: int(x.split(':')[0]))"
   ]
  },
  {
   "cell_type": "markdown",
   "metadata": {},
   "source": [
    "##### fill up the '--' with average value"
   ]
  },
  {
   "cell_type": "code",
   "execution_count": 359,
   "metadata": {},
   "outputs": [],
   "source": [
    "weather['TMP'] = weather.apply(lambda x: float(x.TMP) if x.TMP != '--'\\\n",
    "                             else weather[(weather.Month == x.Month)\\\n",
    "                                         & (weather.Hour == x.Hour)\\\n",
    "                                         & (weather.TMP != '--')]['TMP'].apply(float).mean(), axis=1)"
   ]
  },
  {
   "cell_type": "code",
   "execution_count": 360,
   "metadata": {},
   "outputs": [],
   "source": [
    "weather['WNDCHILL'] = weather.apply(lambda x: float(x.WNDCHILL) if x.WNDCHILL != '--'\\\n",
    "                             else weather[(weather.Month == x.Month)\\\n",
    "                                         & (weather.Hour == x.Hour)\\\n",
    "                                         & (weather.WNDCHILL != '--')]['WNDCHILL'].apply(float).mean(), axis=1)"
   ]
  },
  {
   "cell_type": "code",
   "execution_count": 361,
   "metadata": {},
   "outputs": [],
   "source": [
    "weather['WNDSPD'] = weather.apply(lambda x: float(x.WNDSPD) if x.WNDSPD != '--'\\\n",
    "                             else weather[(weather.Month == x.Month)\\\n",
    "                                         & (weather.Hour == x.Hour)\\\n",
    "                                         & (weather.WNDSPD != '--')]['WNDSPD'].apply(float).mean(), axis=1)"
   ]
  },
  {
   "cell_type": "code",
   "execution_count": 362,
   "metadata": {},
   "outputs": [],
   "source": [
    "weather['Humidity'] = weather.apply(lambda x: float(x.Humidity) if x.Humidity != '--'\\\n",
    "                             else weather[(weather.Month == x.Month)\\\n",
    "                                         & (weather.Hour == x.Hour)\\\n",
    "                                         & (weather.Humidity != '--')]['Humidity'].apply(float).mean(), axis=1)"
   ]
  },
  {
   "cell_type": "code",
   "execution_count": 363,
   "metadata": {},
   "outputs": [],
   "source": [
    "weather['PRMSL'] = weather.apply(lambda x: float(x.PRMSL) if x.PRMSL != '--'\\\n",
    "                             else weather[(weather.Month == x.Month)\\\n",
    "                                         & (weather.Hour == x.Hour)\\\n",
    "                                         & (weather.PRMSL != '--')]['PRMSL'].apply(float).mean(), axis=1)"
   ]
  },
  {
   "cell_type": "code",
   "execution_count": 364,
   "metadata": {},
   "outputs": [],
   "source": [
    "weather['RAIN'] = weather.apply(lambda x: float(x.RAIN) if x.PRMSL != '--'\\\n",
    "                             else weather[(weather.Month == x.Month)\\\n",
    "                                         & (weather.Hour == x.Hour)\\\n",
    "                                         & (weather.RAIN != '--')]['RAIN'].apply(float).mean(), axis=1)"
   ]
  },
  {
   "cell_type": "code",
   "execution_count": 365,
   "metadata": {},
   "outputs": [],
   "source": [
    "weather['Time'] = weather.apply\\\n",
    "(lambda x: datetime.datetime(int(x.Year),int(x.Month),int(x.Day),int(x.Hour)), axis =1)"
   ]
  },
  {
   "cell_type": "code",
   "execution_count": 366,
   "metadata": {},
   "outputs": [],
   "source": [
    "weather = weather.drop(['Year','Month','Day'], axis = 1)"
   ]
  },
  {
   "cell_type": "code",
   "execution_count": 367,
   "metadata": {},
   "outputs": [],
   "source": [
    "weather = weather[['Time','TMP','WNDCHILL','WNDSPD','Humidity','PRMSL','RAIN']]"
   ]
  },
  {
   "cell_type": "code",
   "execution_count": 368,
   "metadata": {},
   "outputs": [],
   "source": [
    "weather = weather.drop_duplicates(subset=None, keep='first', inplace=False)"
   ]
  },
  {
   "cell_type": "code",
   "execution_count": 369,
   "metadata": {},
   "outputs": [],
   "source": [
    "weather = weather.drop_duplicates(subset=['Time'], keep='first', inplace=False)"
   ]
  },
  {
   "cell_type": "markdown",
   "metadata": {},
   "source": [
    "   "
   ]
  },
  {
   "cell_type": "markdown",
   "metadata": {},
   "source": [
    "###  A.4 join power and weather set together and got season, weekday/weekenday info."
   ]
  },
  {
   "cell_type": "code",
   "execution_count": 374,
   "metadata": {},
   "outputs": [],
   "source": [
    "power_list['Day'] = power_list['Date'].dt.date"
   ]
  },
  {
   "cell_type": "code",
   "execution_count": 375,
   "metadata": {},
   "outputs": [],
   "source": [
    "power_list['Hour'] = power_list['Date'].dt.hour"
   ]
  },
  {
   "cell_type": "code",
   "execution_count": 378,
   "metadata": {},
   "outputs": [],
   "source": [
    "weather['Day'] = weather['Time'].dt.date"
   ]
  },
  {
   "cell_type": "code",
   "execution_count": 379,
   "metadata": {},
   "outputs": [],
   "source": [
    "weather['Hour'] = weather['Time'].dt.hour"
   ]
  },
  {
   "cell_type": "code",
   "execution_count": 380,
   "metadata": {},
   "outputs": [],
   "source": [
    "weather = weather.drop(['Time'], axis = 1)"
   ]
  },
  {
   "cell_type": "code",
   "execution_count": 381,
   "metadata": {},
   "outputs": [],
   "source": [
    "df_GM = pd.merge(power_list, weather, how ='left', on=['Day','Hour'])"
   ]
  },
  {
   "cell_type": "code",
   "execution_count": 384,
   "metadata": {},
   "outputs": [],
   "source": [
    "df_GM = df_GM.drop(['Day','Hour'], axis = 1)"
   ]
  },
  {
   "cell_type": "markdown",
   "metadata": {},
   "source": [
    "#### complete season info."
   ]
  },
  {
   "cell_type": "code",
   "execution_count": 410,
   "metadata": {},
   "outputs": [],
   "source": [
    "season = {1:'Winter', 2:'Winter', 3:'Spring', 4:'Spring', 5:'Spring', 6:'Summer', 7:'Summer',\\\n",
    "         8:'Summer', 9:'Fall', 10:'Fall', 11:'Fall', 12:'Winter'}"
   ]
  },
  {
   "cell_type": "code",
   "execution_count": 411,
   "metadata": {},
   "outputs": [],
   "source": [
    "df_GM['Season'] = df_GM.apply(lambda x: season[x.Date.month], axis=1)"
   ]
  },
  {
   "cell_type": "code",
   "execution_count": 417,
   "metadata": {},
   "outputs": [],
   "source": [
    "df_GM['weekday'] = df_GM['Date'].apply(lambda x: x.weekday() + 1)"
   ]
  },
  {
   "cell_type": "code",
   "execution_count": 420,
   "metadata": {},
   "outputs": [],
   "source": [
    "df_GM['weekday'] = df_GM['weekday'].apply(lambda x: 1 if x < 6 else 0)"
   ]
  },
  {
   "cell_type": "code",
   "execution_count": 421,
   "metadata": {},
   "outputs": [
    {
     "data": {
      "text/html": [
       "<div>\n",
       "<style scoped>\n",
       "    .dataframe tbody tr th:only-of-type {\n",
       "        vertical-align: middle;\n",
       "    }\n",
       "\n",
       "    .dataframe tbody tr th {\n",
       "        vertical-align: top;\n",
       "    }\n",
       "\n",
       "    .dataframe thead th {\n",
       "        text-align: right;\n",
       "    }\n",
       "</style>\n",
       "<table border=\"1\" class=\"dataframe\">\n",
       "  <thead>\n",
       "    <tr style=\"text-align: right;\">\n",
       "      <th></th>\n",
       "      <th>Date</th>\n",
       "      <th>Power</th>\n",
       "      <th>TMP</th>\n",
       "      <th>WNDCHILL</th>\n",
       "      <th>WNDSPD</th>\n",
       "      <th>Humidity</th>\n",
       "      <th>PRMSL</th>\n",
       "      <th>RAIN</th>\n",
       "      <th>Season</th>\n",
       "      <th>weekday</th>\n",
       "    </tr>\n",
       "  </thead>\n",
       "  <tbody>\n",
       "    <tr>\n",
       "      <th>0</th>\n",
       "      <td>2018-01-02 00:00:00</td>\n",
       "      <td>0.0</td>\n",
       "      <td>NaN</td>\n",
       "      <td>NaN</td>\n",
       "      <td>NaN</td>\n",
       "      <td>NaN</td>\n",
       "      <td>NaN</td>\n",
       "      <td>NaN</td>\n",
       "      <td>Winter</td>\n",
       "      <td>1</td>\n",
       "    </tr>\n",
       "    <tr>\n",
       "      <th>1</th>\n",
       "      <td>2018-01-02 00:15:00</td>\n",
       "      <td>0.0</td>\n",
       "      <td>NaN</td>\n",
       "      <td>NaN</td>\n",
       "      <td>NaN</td>\n",
       "      <td>NaN</td>\n",
       "      <td>NaN</td>\n",
       "      <td>NaN</td>\n",
       "      <td>Winter</td>\n",
       "      <td>1</td>\n",
       "    </tr>\n",
       "    <tr>\n",
       "      <th>2</th>\n",
       "      <td>2018-01-02 00:30:00</td>\n",
       "      <td>0.0</td>\n",
       "      <td>NaN</td>\n",
       "      <td>NaN</td>\n",
       "      <td>NaN</td>\n",
       "      <td>NaN</td>\n",
       "      <td>NaN</td>\n",
       "      <td>NaN</td>\n",
       "      <td>Winter</td>\n",
       "      <td>1</td>\n",
       "    </tr>\n",
       "    <tr>\n",
       "      <th>3</th>\n",
       "      <td>2018-01-02 00:45:00</td>\n",
       "      <td>0.0</td>\n",
       "      <td>NaN</td>\n",
       "      <td>NaN</td>\n",
       "      <td>NaN</td>\n",
       "      <td>NaN</td>\n",
       "      <td>NaN</td>\n",
       "      <td>NaN</td>\n",
       "      <td>Winter</td>\n",
       "      <td>1</td>\n",
       "    </tr>\n",
       "    <tr>\n",
       "      <th>4</th>\n",
       "      <td>2018-01-02 01:00:00</td>\n",
       "      <td>0.0</td>\n",
       "      <td>NaN</td>\n",
       "      <td>NaN</td>\n",
       "      <td>NaN</td>\n",
       "      <td>NaN</td>\n",
       "      <td>NaN</td>\n",
       "      <td>NaN</td>\n",
       "      <td>Winter</td>\n",
       "      <td>1</td>\n",
       "    </tr>\n",
       "  </tbody>\n",
       "</table>\n",
       "</div>"
      ],
      "text/plain": [
       "                 Date  Power  TMP  WNDCHILL  WNDSPD  Humidity  PRMSL  RAIN  \\\n",
       "0 2018-01-02 00:00:00    0.0  NaN       NaN     NaN       NaN    NaN   NaN   \n",
       "1 2018-01-02 00:15:00    0.0  NaN       NaN     NaN       NaN    NaN   NaN   \n",
       "2 2018-01-02 00:30:00    0.0  NaN       NaN     NaN       NaN    NaN   NaN   \n",
       "3 2018-01-02 00:45:00    0.0  NaN       NaN     NaN       NaN    NaN   NaN   \n",
       "4 2018-01-02 01:00:00    0.0  NaN       NaN     NaN       NaN    NaN   NaN   \n",
       "\n",
       "   Season  weekday  \n",
       "0  Winter        1  \n",
       "1  Winter        1  \n",
       "2  Winter        1  \n",
       "3  Winter        1  \n",
       "4  Winter        1  "
      ]
     },
     "execution_count": 421,
     "metadata": {},
     "output_type": "execute_result"
    }
   ],
   "source": [
    "df_GM.head()"
   ]
  },
  {
   "cell_type": "code",
   "execution_count": 422,
   "metadata": {},
   "outputs": [],
   "source": [
    "df_GM.to_csv('data/power_data_15minutes.csv',index = False)"
   ]
  },
  {
   "cell_type": "code",
   "execution_count": null,
   "metadata": {},
   "outputs": [],
   "source": []
  }
 ],
 "metadata": {
  "kernelspec": {
   "display_name": "Python 3",
   "language": "python",
   "name": "python3"
  },
  "language_info": {
   "codemirror_mode": {
    "name": "ipython",
    "version": 3
   },
   "file_extension": ".py",
   "mimetype": "text/x-python",
   "name": "python",
   "nbconvert_exporter": "python",
   "pygments_lexer": "ipython3",
   "version": "3.7.4"
  }
 },
 "nbformat": 4,
 "nbformat_minor": 2
}
