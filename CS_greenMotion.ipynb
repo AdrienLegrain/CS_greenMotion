{
 "cells": [
  {
   "cell_type": "markdown",
   "metadata": {},
   "source": [
    "# Charging Stations at EPFL (GreenMotion dataset)"
   ]
  },
  {
   "cell_type": "code",
   "execution_count": 66,
   "metadata": {},
   "outputs": [],
   "source": [
    "import pandas as pd\n",
    "import numpy as np\n",
    "import matplotlib.pyplot as plt\n",
    "pd.options.mode.chained_assignment = None  # default='warn', Mutes warnings when copying a slice from a DataFrame.\n",
    "import math\n",
    "from math import sqrt\n",
    "import re\n",
    "from datetime import datetime\n",
    "import datetime"
   ]
  },
  {
   "cell_type": "code",
   "execution_count": 2,
   "metadata": {},
   "outputs": [],
   "source": [
    "DATA_FOLDER = 'data'"
   ]
  },
  {
   "cell_type": "markdown",
   "metadata": {},
   "source": [
    "### A. Loading consumption phase\n",
    "Load the EPFL charging stations excel file into a `DataFrames`. "
   ]
  },
  {
   "cell_type": "code",
   "execution_count": 4,
   "metadata": {},
   "outputs": [],
   "source": [
    "cs_dataframe = pd.read_excel(\"{}/EPFL-data-extract.xlsx\".format(DATA_FOLDER), index_col=0) "
   ]
  },
  {
   "cell_type": "code",
   "execution_count": 5,
   "metadata": {},
   "outputs": [
    {
     "data": {
      "text/plain": [
       "8346"
      ]
     },
     "execution_count": 5,
     "metadata": {},
     "output_type": "execute_result"
    }
   ],
   "source": [
    "len(cs_dataframe[cs_dataframe['HashedUserId'] == 'empty'])"
   ]
  },
  {
   "cell_type": "markdown",
   "metadata": {},
   "source": [
    "### A.1 Exploring the data"
   ]
  },
  {
   "cell_type": "markdown",
   "metadata": {},
   "source": [
    "Useful functions:"
   ]
  },
  {
   "cell_type": "code",
   "execution_count": 6,
   "metadata": {},
   "outputs": [],
   "source": [
    "def nb_minutes(EndDate, BeginDate):\n",
    "    delta = EndDate - BeginDate\n",
    "    nb_min_final_day = delta.seconds//60\n",
    "    nb_days = delta.days\n",
    "    nb_min = nb_min_final_day + nb_days*24*60 + 1\n",
    "    return nb_min"
   ]
  },
  {
   "cell_type": "markdown",
   "metadata": {},
   "source": [
    "Computing charging duration and power:"
   ]
  },
  {
   "cell_type": "code",
   "execution_count": 7,
   "metadata": {},
   "outputs": [
    {
     "data": {
      "text/html": [
       "<div>\n",
       "<style scoped>\n",
       "    .dataframe tbody tr th:only-of-type {\n",
       "        vertical-align: middle;\n",
       "    }\n",
       "\n",
       "    .dataframe tbody tr th {\n",
       "        vertical-align: top;\n",
       "    }\n",
       "\n",
       "    .dataframe thead th {\n",
       "        text-align: right;\n",
       "    }\n",
       "</style>\n",
       "<table border=\"1\" class=\"dataframe\">\n",
       "  <thead>\n",
       "    <tr style=\"text-align: right;\">\n",
       "      <th></th>\n",
       "      <th>ChargingStationId</th>\n",
       "      <th>ChargingStationPlugId</th>\n",
       "      <th>BeginDate</th>\n",
       "      <th>EndDate</th>\n",
       "      <th>PowerConsumption</th>\n",
       "      <th>HashedUserId</th>\n",
       "      <th>ChargingDuration</th>\n",
       "      <th>Power</th>\n",
       "    </tr>\n",
       "    <tr>\n",
       "      <th>ChargeLogId</th>\n",
       "      <th></th>\n",
       "      <th></th>\n",
       "      <th></th>\n",
       "      <th></th>\n",
       "      <th></th>\n",
       "      <th></th>\n",
       "      <th></th>\n",
       "      <th></th>\n",
       "    </tr>\n",
       "  </thead>\n",
       "  <tbody>\n",
       "    <tr>\n",
       "      <th>4911</th>\n",
       "      <td>118</td>\n",
       "      <td>165</td>\n",
       "      <td>2013-11-22 09:02:37</td>\n",
       "      <td>2013-11-22 09:03:09</td>\n",
       "      <td>0</td>\n",
       "      <td>0x725B61EAA9973F5EF7FE6BE2033C5F264982C8C04ED3...</td>\n",
       "      <td>1</td>\n",
       "      <td>0.0</td>\n",
       "    </tr>\n",
       "    <tr>\n",
       "      <th>4912</th>\n",
       "      <td>118</td>\n",
       "      <td>166</td>\n",
       "      <td>2013-11-22 09:02:49</td>\n",
       "      <td>2013-11-22 09:03:21</td>\n",
       "      <td>0</td>\n",
       "      <td>0x70BD1D7BE1297329FE64409179DA9D1B789BE5283D0C...</td>\n",
       "      <td>1</td>\n",
       "      <td>0.0</td>\n",
       "    </tr>\n",
       "    <tr>\n",
       "      <th>4913</th>\n",
       "      <td>118</td>\n",
       "      <td>166</td>\n",
       "      <td>2013-11-22 09:08:29</td>\n",
       "      <td>2013-11-22 09:09:17</td>\n",
       "      <td>0</td>\n",
       "      <td>0x70BD1D7BE1297329FE64409179DA9D1B789BE5283D0C...</td>\n",
       "      <td>1</td>\n",
       "      <td>0.0</td>\n",
       "    </tr>\n",
       "    <tr>\n",
       "      <th>4914</th>\n",
       "      <td>118</td>\n",
       "      <td>166</td>\n",
       "      <td>2013-11-22 09:10:36</td>\n",
       "      <td>2013-11-22 09:10:54</td>\n",
       "      <td>0</td>\n",
       "      <td>0x70BD1D7BE1297329FE64409179DA9D1B789BE5283D0C...</td>\n",
       "      <td>1</td>\n",
       "      <td>0.0</td>\n",
       "    </tr>\n",
       "    <tr>\n",
       "      <th>4915</th>\n",
       "      <td>118</td>\n",
       "      <td>166</td>\n",
       "      <td>2013-11-22 09:11:57</td>\n",
       "      <td>2013-11-22 09:12:13</td>\n",
       "      <td>0</td>\n",
       "      <td>0x70BD1D7BE1297329FE64409179DA9D1B789BE5283D0C...</td>\n",
       "      <td>1</td>\n",
       "      <td>0.0</td>\n",
       "    </tr>\n",
       "  </tbody>\n",
       "</table>\n",
       "</div>"
      ],
      "text/plain": [
       "             ChargingStationId  ChargingStationPlugId           BeginDate  \\\n",
       "ChargeLogId                                                                 \n",
       "4911                       118                    165 2013-11-22 09:02:37   \n",
       "4912                       118                    166 2013-11-22 09:02:49   \n",
       "4913                       118                    166 2013-11-22 09:08:29   \n",
       "4914                       118                    166 2013-11-22 09:10:36   \n",
       "4915                       118                    166 2013-11-22 09:11:57   \n",
       "\n",
       "                        EndDate  PowerConsumption  \\\n",
       "ChargeLogId                                         \n",
       "4911        2013-11-22 09:03:09                 0   \n",
       "4912        2013-11-22 09:03:21                 0   \n",
       "4913        2013-11-22 09:09:17                 0   \n",
       "4914        2013-11-22 09:10:54                 0   \n",
       "4915        2013-11-22 09:12:13                 0   \n",
       "\n",
       "                                                  HashedUserId  \\\n",
       "ChargeLogId                                                      \n",
       "4911         0x725B61EAA9973F5EF7FE6BE2033C5F264982C8C04ED3...   \n",
       "4912         0x70BD1D7BE1297329FE64409179DA9D1B789BE5283D0C...   \n",
       "4913         0x70BD1D7BE1297329FE64409179DA9D1B789BE5283D0C...   \n",
       "4914         0x70BD1D7BE1297329FE64409179DA9D1B789BE5283D0C...   \n",
       "4915         0x70BD1D7BE1297329FE64409179DA9D1B789BE5283D0C...   \n",
       "\n",
       "             ChargingDuration  Power  \n",
       "ChargeLogId                           \n",
       "4911                        1    0.0  \n",
       "4912                        1    0.0  \n",
       "4913                        1    0.0  \n",
       "4914                        1    0.0  \n",
       "4915                        1    0.0  "
      ]
     },
     "execution_count": 7,
     "metadata": {},
     "output_type": "execute_result"
    }
   ],
   "source": [
    "delta_vect = cs_dataframe.apply(lambda x : nb_minutes(x.EndDate, x.BeginDate), axis=1) #compute minutes of charge\n",
    "cs_dataframe[\"ChargingDuration\"] = delta_vect \n",
    "cs_dataframe[\"Power\"] = cs_dataframe[\"PowerConsumption\"] / cs_dataframe[\"ChargingDuration\"] * 60 # compute power\n",
    "#cs_df = cs_dataframe.drop('HashedUserId', axis=1)\n",
    "cs_df = cs_dataframe\n",
    "cs_df.head()"
   ]
  },
  {
   "cell_type": "markdown",
   "metadata": {},
   "source": [
    "#### give each user_id one number for easily operation"
   ]
  },
  {
   "cell_type": "code",
   "execution_count": 8,
   "metadata": {},
   "outputs": [],
   "source": [
    "Userlst = list(cs_df['HashedUserId'].unique()) \n",
    "Userlst.remove('empty')                # get all user_id except for NULL\n",
    "User_num = range(1, len(Userlst)+1)"
   ]
  },
  {
   "cell_type": "code",
   "execution_count": 9,
   "metadata": {},
   "outputs": [],
   "source": [
    "User_collect = dict(zip(Userlst, User_num))\n",
    "User_collect['empty'] = 0           # give each user_id one numer which is easierly read than Hash value"
   ]
  },
  {
   "cell_type": "code",
   "execution_count": 10,
   "metadata": {
    "scrolled": true
   },
   "outputs": [],
   "source": [
    "cs_df['HashedUserId'] = cs_df['HashedUserId'].apply(lambda x: User_collect[x])"
   ]
  },
  {
   "cell_type": "markdown",
   "metadata": {},
   "source": [
    "Let's remove unrealistic charging powers:"
   ]
  },
  {
   "cell_type": "code",
   "execution_count": 12,
   "metadata": {},
   "outputs": [],
   "source": [
    "cs_df_clean = cs_df[cs_df.Power < 30000] # removing outliers (P>30kW...)"
   ]
  },
  {
   "cell_type": "code",
   "execution_count": 471,
   "metadata": {
    "scrolled": true
   },
   "outputs": [
    {
     "data": {
      "text/html": [
       "<div>\n",
       "<style scoped>\n",
       "    .dataframe tbody tr th:only-of-type {\n",
       "        vertical-align: middle;\n",
       "    }\n",
       "\n",
       "    .dataframe tbody tr th {\n",
       "        vertical-align: top;\n",
       "    }\n",
       "\n",
       "    .dataframe thead th {\n",
       "        text-align: right;\n",
       "    }\n",
       "</style>\n",
       "<table border=\"1\" class=\"dataframe\">\n",
       "  <thead>\n",
       "    <tr style=\"text-align: right;\">\n",
       "      <th></th>\n",
       "      <th>ChargingStationId</th>\n",
       "      <th>ChargingStationPlugId</th>\n",
       "      <th>BeginDate</th>\n",
       "      <th>EndDate</th>\n",
       "      <th>PowerConsumption</th>\n",
       "      <th>HashedUserId</th>\n",
       "      <th>ChargingDuration</th>\n",
       "      <th>Power</th>\n",
       "      <th>weekday</th>\n",
       "    </tr>\n",
       "    <tr>\n",
       "      <th>ChargeLogId</th>\n",
       "      <th></th>\n",
       "      <th></th>\n",
       "      <th></th>\n",
       "      <th></th>\n",
       "      <th></th>\n",
       "      <th></th>\n",
       "      <th></th>\n",
       "      <th></th>\n",
       "      <th></th>\n",
       "    </tr>\n",
       "  </thead>\n",
       "  <tbody>\n",
       "    <tr>\n",
       "      <th>4911</th>\n",
       "      <td>118</td>\n",
       "      <td>165</td>\n",
       "      <td>2013-11-22 09:02:37</td>\n",
       "      <td>2013-11-22 09:03:09</td>\n",
       "      <td>0</td>\n",
       "      <td>1</td>\n",
       "      <td>1</td>\n",
       "      <td>0.0</td>\n",
       "      <td>5</td>\n",
       "    </tr>\n",
       "    <tr>\n",
       "      <th>4912</th>\n",
       "      <td>118</td>\n",
       "      <td>166</td>\n",
       "      <td>2013-11-22 09:02:49</td>\n",
       "      <td>2013-11-22 09:03:21</td>\n",
       "      <td>0</td>\n",
       "      <td>2</td>\n",
       "      <td>1</td>\n",
       "      <td>0.0</td>\n",
       "      <td>5</td>\n",
       "    </tr>\n",
       "    <tr>\n",
       "      <th>4913</th>\n",
       "      <td>118</td>\n",
       "      <td>166</td>\n",
       "      <td>2013-11-22 09:08:29</td>\n",
       "      <td>2013-11-22 09:09:17</td>\n",
       "      <td>0</td>\n",
       "      <td>2</td>\n",
       "      <td>1</td>\n",
       "      <td>0.0</td>\n",
       "      <td>5</td>\n",
       "    </tr>\n",
       "    <tr>\n",
       "      <th>4914</th>\n",
       "      <td>118</td>\n",
       "      <td>166</td>\n",
       "      <td>2013-11-22 09:10:36</td>\n",
       "      <td>2013-11-22 09:10:54</td>\n",
       "      <td>0</td>\n",
       "      <td>2</td>\n",
       "      <td>1</td>\n",
       "      <td>0.0</td>\n",
       "      <td>5</td>\n",
       "    </tr>\n",
       "    <tr>\n",
       "      <th>4915</th>\n",
       "      <td>118</td>\n",
       "      <td>166</td>\n",
       "      <td>2013-11-22 09:11:57</td>\n",
       "      <td>2013-11-22 09:12:13</td>\n",
       "      <td>0</td>\n",
       "      <td>2</td>\n",
       "      <td>1</td>\n",
       "      <td>0.0</td>\n",
       "      <td>5</td>\n",
       "    </tr>\n",
       "  </tbody>\n",
       "</table>\n",
       "</div>"
      ],
      "text/plain": [
       "             ChargingStationId  ChargingStationPlugId           BeginDate  \\\n",
       "ChargeLogId                                                                 \n",
       "4911                       118                    165 2013-11-22 09:02:37   \n",
       "4912                       118                    166 2013-11-22 09:02:49   \n",
       "4913                       118                    166 2013-11-22 09:08:29   \n",
       "4914                       118                    166 2013-11-22 09:10:36   \n",
       "4915                       118                    166 2013-11-22 09:11:57   \n",
       "\n",
       "                        EndDate  PowerConsumption  HashedUserId  \\\n",
       "ChargeLogId                                                       \n",
       "4911        2013-11-22 09:03:09                 0             1   \n",
       "4912        2013-11-22 09:03:21                 0             2   \n",
       "4913        2013-11-22 09:09:17                 0             2   \n",
       "4914        2013-11-22 09:10:54                 0             2   \n",
       "4915        2013-11-22 09:12:13                 0             2   \n",
       "\n",
       "             ChargingDuration  Power  weekday  \n",
       "ChargeLogId                                    \n",
       "4911                        1    0.0        5  \n",
       "4912                        1    0.0        5  \n",
       "4913                        1    0.0        5  \n",
       "4914                        1    0.0        5  \n",
       "4915                        1    0.0        5  "
      ]
     },
     "execution_count": 471,
     "metadata": {},
     "output_type": "execute_result"
    }
   ],
   "source": [
    "cs_df_clean.head()"
   ]
  },
  {
   "cell_type": "markdown",
   "metadata": {},
   "source": [
    "### A.2 clustering each data into a hour-form"
   ]
  },
  {
   "cell_type": "code",
   "execution_count": 302,
   "metadata": {},
   "outputs": [],
   "source": [
    "# year 2019 data\n",
    "df = cs_df_clean[cs_df_clean.BeginDate.dt.year.isin([2020,2019,2018])]\n",
    "df = df.reset_index()\n",
    "df = df.drop(['ChargeLogId'],axis =1)"
   ]
  },
  {
   "cell_type": "code",
   "execution_count": 304,
   "metadata": {},
   "outputs": [],
   "source": [
    "df['Begintime'] = df['BeginDate'].dt.hour"
   ]
  },
  {
   "cell_type": "code",
   "execution_count": 305,
   "metadata": {},
   "outputs": [],
   "source": [
    "df['Endtime'] =df['EndDate'].dt.hour"
   ]
  },
  {
   "cell_type": "code",
   "execution_count": 306,
   "metadata": {},
   "outputs": [],
   "source": [
    "df['Duration_hour'] = df.apply(lambda x: x['Endtime']- x['Begintime'] + 1\\\n",
    "                                     if x['Endtime'] >= x['Begintime'] \n",
    "                                     else x['Endtime'] + 24 - x['Begintime'] + 1, axis =1)\n",
    "#got the charging in exact hour"
   ]
  },
  {
   "cell_type": "code",
   "execution_count": 307,
   "metadata": {},
   "outputs": [],
   "source": [
    "#function for dividing each charging into every hour form\n",
    "df_new = pd.DataFrame()\n",
    "def hour_power(x):\n",
    "    a = x\n",
    "    global df_new\n",
    "    if a.BeginDate.hour + a.Duration_hour <= 24:\n",
    "        for i in range(a.Duration_hour):\n",
    "            df_new = df_new.append([pd.DataFrame(a).T])\n",
    "            a.Begintime += 1\n",
    "    else:\n",
    "        delt_t = 24 - a.BeginDate.hour\n",
    "        for i in range(delt_t):\n",
    "            df_new = df_new.append([pd.DataFrame(a).T])\n",
    "            a.Begintime += 1\n",
    "            \n",
    "        for i in range(a.Duration_hour - delt_t):\n",
    "            a.BeginDate += datetime.timedelta(hours = delt_t)\n",
    "            a.EndDate += datetime.timedelta(hours = delt_t)\n",
    "            a.Begintime = i\n",
    "            df_new = df_new.append([pd.DataFrame(a).T])\n",
    "    "
   ]
  },
  {
   "cell_type": "code",
   "execution_count": 308,
   "metadata": {},
   "outputs": [
    {
     "data": {
      "text/plain": [
       "0        None\n",
       "1        None\n",
       "2        None\n",
       "3        None\n",
       "4        None\n",
       "         ... \n",
       "10176    None\n",
       "10177    None\n",
       "10178    None\n",
       "10179    None\n",
       "10180    None\n",
       "Length: 10181, dtype: object"
      ]
     },
     "execution_count": 308,
     "metadata": {},
     "output_type": "execute_result"
    }
   ],
   "source": [
    "lst = pd.Series(range(0, len(df)))\n",
    "lst.apply(lambda x: hour_power(df.loc[x]))"
   ]
  },
  {
   "cell_type": "code",
   "execution_count": 309,
   "metadata": {},
   "outputs": [],
   "source": [
    "df_new = df_new.reset_index()"
   ]
  },
  {
   "cell_type": "code",
   "execution_count": 310,
   "metadata": {},
   "outputs": [],
   "source": [
    "df_new = df_new.drop(['index'], axis =1)"
   ]
  },
  {
   "cell_type": "code",
   "execution_count": 311,
   "metadata": {},
   "outputs": [],
   "source": [
    "df_new['Day'] = df_new['BeginDate'].dt.date"
   ]
  },
  {
   "cell_type": "code",
   "execution_count": 312,
   "metadata": {
    "scrolled": false
   },
   "outputs": [],
   "source": [
    "power = pd.DataFrame(df_new.groupby(['Day','Begintime'])['Power'].sum()) \n",
    "#get every day every hour's power for whole stations"
   ]
  },
  {
   "cell_type": "code",
   "execution_count": 313,
   "metadata": {},
   "outputs": [],
   "source": [
    "power = power.reset_index()"
   ]
  },
  {
   "cell_type": "code",
   "execution_count": 409,
   "metadata": {},
   "outputs": [],
   "source": [
    "power.columns = ['Day','Hour','Power','weekday']"
   ]
  },
  {
   "cell_type": "code",
   "execution_count": 441,
   "metadata": {},
   "outputs": [
    {
     "data": {
      "text/html": [
       "<div>\n",
       "<style scoped>\n",
       "    .dataframe tbody tr th:only-of-type {\n",
       "        vertical-align: middle;\n",
       "    }\n",
       "\n",
       "    .dataframe tbody tr th {\n",
       "        vertical-align: top;\n",
       "    }\n",
       "\n",
       "    .dataframe thead th {\n",
       "        text-align: right;\n",
       "    }\n",
       "</style>\n",
       "<table border=\"1\" class=\"dataframe\">\n",
       "  <thead>\n",
       "    <tr style=\"text-align: right;\">\n",
       "      <th></th>\n",
       "      <th>Day</th>\n",
       "      <th>Hour</th>\n",
       "      <th>Power</th>\n",
       "      <th>weekday</th>\n",
       "    </tr>\n",
       "  </thead>\n",
       "  <tbody>\n",
       "    <tr>\n",
       "      <th>10905</th>\n",
       "      <td>2020-03-12</td>\n",
       "      <td>5</td>\n",
       "      <td>13498.895499</td>\n",
       "      <td>4</td>\n",
       "    </tr>\n",
       "    <tr>\n",
       "      <th>10906</th>\n",
       "      <td>2020-03-12</td>\n",
       "      <td>6</td>\n",
       "      <td>22519.396315</td>\n",
       "      <td>4</td>\n",
       "    </tr>\n",
       "    <tr>\n",
       "      <th>10907</th>\n",
       "      <td>2020-03-12</td>\n",
       "      <td>7</td>\n",
       "      <td>28984.996307</td>\n",
       "      <td>4</td>\n",
       "    </tr>\n",
       "    <tr>\n",
       "      <th>10908</th>\n",
       "      <td>2020-03-12</td>\n",
       "      <td>8</td>\n",
       "      <td>31225.623303</td>\n",
       "      <td>4</td>\n",
       "    </tr>\n",
       "    <tr>\n",
       "      <th>10909</th>\n",
       "      <td>2020-03-12</td>\n",
       "      <td>9</td>\n",
       "      <td>24483.782773</td>\n",
       "      <td>4</td>\n",
       "    </tr>\n",
       "    <tr>\n",
       "      <th>10910</th>\n",
       "      <td>2020-03-12</td>\n",
       "      <td>10</td>\n",
       "      <td>31327.695817</td>\n",
       "      <td>4</td>\n",
       "    </tr>\n",
       "    <tr>\n",
       "      <th>10911</th>\n",
       "      <td>2020-03-12</td>\n",
       "      <td>11</td>\n",
       "      <td>16862.471298</td>\n",
       "      <td>4</td>\n",
       "    </tr>\n",
       "    <tr>\n",
       "      <th>10912</th>\n",
       "      <td>2020-03-12</td>\n",
       "      <td>12</td>\n",
       "      <td>26825.240528</td>\n",
       "      <td>4</td>\n",
       "    </tr>\n",
       "    <tr>\n",
       "      <th>10913</th>\n",
       "      <td>2020-03-12</td>\n",
       "      <td>13</td>\n",
       "      <td>23540.231685</td>\n",
       "      <td>4</td>\n",
       "    </tr>\n",
       "    <tr>\n",
       "      <th>10914</th>\n",
       "      <td>2020-03-12</td>\n",
       "      <td>14</td>\n",
       "      <td>3783.682413</td>\n",
       "      <td>4</td>\n",
       "    </tr>\n",
       "    <tr>\n",
       "      <th>10915</th>\n",
       "      <td>2020-03-12</td>\n",
       "      <td>15</td>\n",
       "      <td>2706.840308</td>\n",
       "      <td>4</td>\n",
       "    </tr>\n",
       "    <tr>\n",
       "      <th>10916</th>\n",
       "      <td>2020-03-12</td>\n",
       "      <td>16</td>\n",
       "      <td>1727.034483</td>\n",
       "      <td>4</td>\n",
       "    </tr>\n",
       "  </tbody>\n",
       "</table>\n",
       "</div>"
      ],
      "text/plain": [
       "              Day  Hour         Power  weekday\n",
       "10905  2020-03-12     5  13498.895499        4\n",
       "10906  2020-03-12     6  22519.396315        4\n",
       "10907  2020-03-12     7  28984.996307        4\n",
       "10908  2020-03-12     8  31225.623303        4\n",
       "10909  2020-03-12     9  24483.782773        4\n",
       "10910  2020-03-12    10  31327.695817        4\n",
       "10911  2020-03-12    11  16862.471298        4\n",
       "10912  2020-03-12    12  26825.240528        4\n",
       "10913  2020-03-12    13  23540.231685        4\n",
       "10914  2020-03-12    14   3783.682413        4\n",
       "10915  2020-03-12    15   2706.840308        4\n",
       "10916  2020-03-12    16   1727.034483        4"
      ]
     },
     "execution_count": 441,
     "metadata": {},
     "output_type": "execute_result"
    }
   ],
   "source": [
    "power[power.Day == date(2020,3,12)]"
   ]
  },
  {
   "cell_type": "markdown",
   "metadata": {},
   "source": [
    "power_whole = pd.DataFrame()\n",
    "def zero_hour(x):\n",
    "    global power_whole\n",
    "    for i in range(0,24):\n",
    "        if i.isin(x.Hour):\n",
    "            power_whole = power_whole.append(x.loc[i])"
   ]
  },
  {
   "cell_type": "code",
   "execution_count": 319,
   "metadata": {},
   "outputs": [],
   "source": [
    "power['weekday'] = power['Day'].apply(lambda x: x.weekday() + 1)"
   ]
  },
  {
   "cell_type": "markdown",
   "metadata": {},
   "source": [
    "### A.3 Add weather data"
   ]
  },
  {
   "cell_type": "code",
   "execution_count": 614,
   "metadata": {},
   "outputs": [],
   "source": [
    "cs_weather = pd.read_csv('{}/weather.csv'.format(DATA_FOLDER), index_col = None)\n",
    "cs_weather = cs_weather[cs_weather['Year'].isin([2020,2019,2018])]"
   ]
  },
  {
   "cell_type": "code",
   "execution_count": 615,
   "metadata": {},
   "outputs": [],
   "source": [
    "Cha = ['Year','Month','Day','Hour','TMP','WNDCHILL','WNDSPD','Humidity','PRMSL','RAIN']\n",
    "cs_weather = cs_weather[Cha]"
   ]
  },
  {
   "cell_type": "code",
   "execution_count": 616,
   "metadata": {},
   "outputs": [],
   "source": [
    "cs_weather['RAIN'] = cs_weather['RAIN']\\\n",
    ".apply(lambda x: float(x.split('/')[0]) if x != '--' else float(0))"
   ]
  },
  {
   "cell_type": "code",
   "execution_count": 617,
   "metadata": {},
   "outputs": [],
   "source": [
    "weather = cs_weather.reset_index(drop=True)"
   ]
  },
  {
   "cell_type": "code",
   "execution_count": 618,
   "metadata": {},
   "outputs": [],
   "source": [
    "weather['Hour'] = weather['Hour'].apply(lambda x: int(x.split(':')[0]))"
   ]
  },
  {
   "cell_type": "markdown",
   "metadata": {},
   "source": [
    "##### fill up the '--' with average value"
   ]
  },
  {
   "cell_type": "code",
   "execution_count": 619,
   "metadata": {},
   "outputs": [],
   "source": [
    "weather['TMP'] = weather.apply(lambda x: float(x.TMP) if x.TMP != '--'\\\n",
    "                             else weather[(weather.Month == x.Month)\\\n",
    "                                         & (weather.Hour == x.Hour)\\\n",
    "                                         & (weather.TMP != '--')]['TMP'].apply(float).mean(), axis=1)"
   ]
  },
  {
   "cell_type": "code",
   "execution_count": 620,
   "metadata": {},
   "outputs": [],
   "source": [
    "weather['WNDCHILL'] = weather.apply(lambda x: float(x.WNDCHILL) if x.WNDCHILL != '--'\\\n",
    "                             else weather[(weather.Month == x.Month)\\\n",
    "                                         & (weather.Hour == x.Hour)\\\n",
    "                                         & (weather.WNDCHILL != '--')]['WNDCHILL'].apply(float).mean(), axis=1)"
   ]
  },
  {
   "cell_type": "code",
   "execution_count": 621,
   "metadata": {},
   "outputs": [],
   "source": [
    "weather['WNDSPD'] = weather.apply(lambda x: float(x.WNDSPD) if x.WNDSPD != '--'\\\n",
    "                             else weather[(weather.Month == x.Month)\\\n",
    "                                         & (weather.Hour == x.Hour)\\\n",
    "                                         & (weather.WNDSPD != '--')]['WNDSPD'].apply(float).mean(), axis=1)"
   ]
  },
  {
   "cell_type": "code",
   "execution_count": 622,
   "metadata": {},
   "outputs": [],
   "source": [
    "weather['Humidity'] = weather.apply(lambda x: float(x.Humidity) if x.Humidity != '--'\\\n",
    "                             else weather[(weather.Month == x.Month)\\\n",
    "                                         & (weather.Hour == x.Hour)\\\n",
    "                                         & (weather.Humidity != '--')]['Humidity'].apply(float).mean(), axis=1)"
   ]
  },
  {
   "cell_type": "code",
   "execution_count": 605,
   "metadata": {},
   "outputs": [],
   "source": [
    "weather['PRMSL'] = weather.apply(lambda x: float(x.PRMSL) if x.PRMSL != '--'\\\n",
    "                             else weather[(weather.Month == x.Month)\\\n",
    "                                         & (weather.Hour == x.Hour)\\\n",
    "                                         & (weather.PRMSL != '--')]['PRMSL'].apply(float).mean(), axis=1)"
   ]
  },
  {
   "cell_type": "markdown",
   "metadata": {},
   "source": [
    "                "
   ]
  },
  {
   "cell_type": "code",
   "execution_count": 623,
   "metadata": {},
   "outputs": [
    {
     "data": {
      "text/html": [
       "<div>\n",
       "<style scoped>\n",
       "    .dataframe tbody tr th:only-of-type {\n",
       "        vertical-align: middle;\n",
       "    }\n",
       "\n",
       "    .dataframe tbody tr th {\n",
       "        vertical-align: top;\n",
       "    }\n",
       "\n",
       "    .dataframe thead th {\n",
       "        text-align: right;\n",
       "    }\n",
       "</style>\n",
       "<table border=\"1\" class=\"dataframe\">\n",
       "  <thead>\n",
       "    <tr style=\"text-align: right;\">\n",
       "      <th></th>\n",
       "      <th>Year</th>\n",
       "      <th>Month</th>\n",
       "      <th>Day</th>\n",
       "      <th>Hour</th>\n",
       "      <th>TMP</th>\n",
       "      <th>WNDCHILL</th>\n",
       "      <th>WNDSPD</th>\n",
       "      <th>Humidity</th>\n",
       "      <th>PRMSL</th>\n",
       "      <th>RAIN</th>\n",
       "    </tr>\n",
       "  </thead>\n",
       "  <tbody>\n",
       "    <tr>\n",
       "      <th>0</th>\n",
       "      <td>2018</td>\n",
       "      <td>1</td>\n",
       "      <td>1</td>\n",
       "      <td>0</td>\n",
       "      <td>7.8</td>\n",
       "      <td>6.6</td>\n",
       "      <td>7.4</td>\n",
       "      <td>82.0</td>\n",
       "      <td>1014</td>\n",
       "      <td>0.4</td>\n",
       "    </tr>\n",
       "    <tr>\n",
       "      <th>1</th>\n",
       "      <td>2018</td>\n",
       "      <td>1</td>\n",
       "      <td>1</td>\n",
       "      <td>1</td>\n",
       "      <td>7.0</td>\n",
       "      <td>4.0</td>\n",
       "      <td>16.7</td>\n",
       "      <td>82.0</td>\n",
       "      <td>1015.9</td>\n",
       "      <td>2.0</td>\n",
       "    </tr>\n",
       "    <tr>\n",
       "      <th>2</th>\n",
       "      <td>2018</td>\n",
       "      <td>1</td>\n",
       "      <td>1</td>\n",
       "      <td>2</td>\n",
       "      <td>6.1</td>\n",
       "      <td>4.6</td>\n",
       "      <td>7.4</td>\n",
       "      <td>84.0</td>\n",
       "      <td>1017.1</td>\n",
       "      <td>0.2</td>\n",
       "    </tr>\n",
       "    <tr>\n",
       "      <th>3</th>\n",
       "      <td>2018</td>\n",
       "      <td>1</td>\n",
       "      <td>1</td>\n",
       "      <td>3</td>\n",
       "      <td>6.1</td>\n",
       "      <td>4.6</td>\n",
       "      <td>7.4</td>\n",
       "      <td>81.0</td>\n",
       "      <td>1017.5</td>\n",
       "      <td>0.2</td>\n",
       "    </tr>\n",
       "    <tr>\n",
       "      <th>4</th>\n",
       "      <td>2018</td>\n",
       "      <td>1</td>\n",
       "      <td>1</td>\n",
       "      <td>4</td>\n",
       "      <td>6.5</td>\n",
       "      <td>5.6</td>\n",
       "      <td>5.6</td>\n",
       "      <td>77.0</td>\n",
       "      <td>1018.1</td>\n",
       "      <td>0.0</td>\n",
       "    </tr>\n",
       "  </tbody>\n",
       "</table>\n",
       "</div>"
      ],
      "text/plain": [
       "   Year  Month  Day  Hour  TMP  WNDCHILL  WNDSPD  Humidity   PRMSL  RAIN\n",
       "0  2018      1    1     0  7.8       6.6     7.4      82.0    1014   0.4\n",
       "1  2018      1    1     1  7.0       4.0    16.7      82.0  1015.9   2.0\n",
       "2  2018      1    1     2  6.1       4.6     7.4      84.0  1017.1   0.2\n",
       "3  2018      1    1     3  6.1       4.6     7.4      81.0  1017.5   0.2\n",
       "4  2018      1    1     4  6.5       5.6     5.6      77.0  1018.1   0.0"
      ]
     },
     "execution_count": 623,
     "metadata": {},
     "output_type": "execute_result"
    }
   ],
   "source": [
    "weather.head()"
   ]
  },
  {
   "cell_type": "code",
   "execution_count": 624,
   "metadata": {},
   "outputs": [],
   "source": [
    "weather['Day'] = weather.apply(lambda x: date(x.Year,x.Month,x.Day), axis = 1)"
   ]
  },
  {
   "cell_type": "code",
   "execution_count": 625,
   "metadata": {},
   "outputs": [],
   "source": [
    "weather = weather.drop(['Year','Month'], axis = 1)"
   ]
  },
  {
   "cell_type": "code",
   "execution_count": 626,
   "metadata": {},
   "outputs": [],
   "source": [
    "weather = weather[['Day','Hour','TMP','WNDCHILL','WNDSPD','Humidity','PRMSL','RAIN']]"
   ]
  },
  {
   "cell_type": "code",
   "execution_count": 627,
   "metadata": {},
   "outputs": [],
   "source": [
    "weather = weather.drop_duplicates(subset=None, keep='first', inplace=False)"
   ]
  },
  {
   "cell_type": "markdown",
   "metadata": {},
   "source": [
    "###  A.4 join power and weather set together and got season, weekday/weekenday info."
   ]
  },
  {
   "cell_type": "code",
   "execution_count": 629,
   "metadata": {},
   "outputs": [
    {
     "data": {
      "text/html": [
       "<div>\n",
       "<style scoped>\n",
       "    .dataframe tbody tr th:only-of-type {\n",
       "        vertical-align: middle;\n",
       "    }\n",
       "\n",
       "    .dataframe tbody tr th {\n",
       "        vertical-align: top;\n",
       "    }\n",
       "\n",
       "    .dataframe thead th {\n",
       "        text-align: right;\n",
       "    }\n",
       "</style>\n",
       "<table border=\"1\" class=\"dataframe\">\n",
       "  <thead>\n",
       "    <tr style=\"text-align: right;\">\n",
       "      <th></th>\n",
       "      <th>Day</th>\n",
       "      <th>Hour</th>\n",
       "      <th>Power</th>\n",
       "      <th>weekday</th>\n",
       "    </tr>\n",
       "  </thead>\n",
       "  <tbody>\n",
       "    <tr>\n",
       "      <th>0</th>\n",
       "      <td>2018-01-02</td>\n",
       "      <td>13</td>\n",
       "      <td>14408.601553</td>\n",
       "      <td>2</td>\n",
       "    </tr>\n",
       "    <tr>\n",
       "      <th>1</th>\n",
       "      <td>2018-01-02</td>\n",
       "      <td>14</td>\n",
       "      <td>14408.601553</td>\n",
       "      <td>2</td>\n",
       "    </tr>\n",
       "    <tr>\n",
       "      <th>2</th>\n",
       "      <td>2018-01-02</td>\n",
       "      <td>15</td>\n",
       "      <td>970.635452</td>\n",
       "      <td>2</td>\n",
       "    </tr>\n",
       "    <tr>\n",
       "      <th>3</th>\n",
       "      <td>2018-01-02</td>\n",
       "      <td>16</td>\n",
       "      <td>970.635452</td>\n",
       "      <td>2</td>\n",
       "    </tr>\n",
       "    <tr>\n",
       "      <th>4</th>\n",
       "      <td>2018-01-02</td>\n",
       "      <td>17</td>\n",
       "      <td>970.635452</td>\n",
       "      <td>2</td>\n",
       "    </tr>\n",
       "  </tbody>\n",
       "</table>\n",
       "</div>"
      ],
      "text/plain": [
       "          Day  Hour         Power  weekday\n",
       "0  2018-01-02    13  14408.601553        2\n",
       "1  2018-01-02    14  14408.601553        2\n",
       "2  2018-01-02    15    970.635452        2\n",
       "3  2018-01-02    16    970.635452        2\n",
       "4  2018-01-02    17    970.635452        2"
      ]
     },
     "execution_count": 629,
     "metadata": {},
     "output_type": "execute_result"
    }
   ],
   "source": [
    "power.head()"
   ]
  },
  {
   "cell_type": "code",
   "execution_count": 630,
   "metadata": {},
   "outputs": [],
   "source": [
    "df_GM = pd.merge(power, weather, how ='right', on=['Day','Hour'])"
   ]
  },
  {
   "cell_type": "code",
   "execution_count": 631,
   "metadata": {},
   "outputs": [],
   "source": [
    "power_uncom = df_GM.Power.fillna(0) #fill up Nan with 0 under 'Power' column\n",
    "df_GM.Power = power_uncom"
   ]
  },
  {
   "cell_type": "code",
   "execution_count": 632,
   "metadata": {},
   "outputs": [],
   "source": [
    "df_GM = df_GM.groupby('Day').apply(lambda x: x.sort_values(by = 'Hour', ascending = True))"
   ]
  },
  {
   "cell_type": "code",
   "execution_count": 633,
   "metadata": {},
   "outputs": [],
   "source": [
    "df_GM = df_GM.reset_index(drop = True)"
   ]
  },
  {
   "cell_type": "markdown",
   "metadata": {},
   "source": [
    "#### complete season info."
   ]
  },
  {
   "cell_type": "code",
   "execution_count": 634,
   "metadata": {},
   "outputs": [],
   "source": [
    "season = {1:'Winter', 2:'Spring', 3:'Spring', 4:'Spring', 5:'Summer', 6:'Summer', 7:'Summer',\\\n",
    "         8:'Fall', 9:'Fall', 10:'Fall', 11:'Winter', 12:'Winter'}"
   ]
  },
  {
   "cell_type": "code",
   "execution_count": 635,
   "metadata": {},
   "outputs": [],
   "source": [
    "df_GM['Season'] = df_GM.apply(lambda x: season[x.Day.month], axis=1)"
   ]
  },
  {
   "cell_type": "code",
   "execution_count": 636,
   "metadata": {},
   "outputs": [],
   "source": [
    "df_GM['weekday'] = df_GM['Day'].apply(lambda x: x.weekday() + 1)"
   ]
  },
  {
   "cell_type": "code",
   "execution_count": 637,
   "metadata": {},
   "outputs": [
    {
     "data": {
      "text/html": [
       "<div>\n",
       "<style scoped>\n",
       "    .dataframe tbody tr th:only-of-type {\n",
       "        vertical-align: middle;\n",
       "    }\n",
       "\n",
       "    .dataframe tbody tr th {\n",
       "        vertical-align: top;\n",
       "    }\n",
       "\n",
       "    .dataframe thead th {\n",
       "        text-align: right;\n",
       "    }\n",
       "</style>\n",
       "<table border=\"1\" class=\"dataframe\">\n",
       "  <thead>\n",
       "    <tr style=\"text-align: right;\">\n",
       "      <th></th>\n",
       "      <th>Day</th>\n",
       "      <th>Hour</th>\n",
       "      <th>Power</th>\n",
       "      <th>weekday</th>\n",
       "      <th>TMP</th>\n",
       "      <th>WNDCHILL</th>\n",
       "      <th>WNDSPD</th>\n",
       "      <th>Humidity</th>\n",
       "      <th>PRMSL</th>\n",
       "      <th>RAIN</th>\n",
       "      <th>Season</th>\n",
       "    </tr>\n",
       "  </thead>\n",
       "  <tbody>\n",
       "    <tr>\n",
       "      <th>0</th>\n",
       "      <td>2018-01-01</td>\n",
       "      <td>0</td>\n",
       "      <td>0.0</td>\n",
       "      <td>1</td>\n",
       "      <td>7.8</td>\n",
       "      <td>6.6</td>\n",
       "      <td>7.4</td>\n",
       "      <td>82.0</td>\n",
       "      <td>1014</td>\n",
       "      <td>0.4</td>\n",
       "      <td>Winter</td>\n",
       "    </tr>\n",
       "    <tr>\n",
       "      <th>1</th>\n",
       "      <td>2018-01-01</td>\n",
       "      <td>1</td>\n",
       "      <td>0.0</td>\n",
       "      <td>1</td>\n",
       "      <td>7.0</td>\n",
       "      <td>4.0</td>\n",
       "      <td>16.7</td>\n",
       "      <td>82.0</td>\n",
       "      <td>1015.9</td>\n",
       "      <td>2.0</td>\n",
       "      <td>Winter</td>\n",
       "    </tr>\n",
       "    <tr>\n",
       "      <th>2</th>\n",
       "      <td>2018-01-01</td>\n",
       "      <td>2</td>\n",
       "      <td>0.0</td>\n",
       "      <td>1</td>\n",
       "      <td>6.1</td>\n",
       "      <td>4.6</td>\n",
       "      <td>7.4</td>\n",
       "      <td>84.0</td>\n",
       "      <td>1017.1</td>\n",
       "      <td>0.2</td>\n",
       "      <td>Winter</td>\n",
       "    </tr>\n",
       "    <tr>\n",
       "      <th>3</th>\n",
       "      <td>2018-01-01</td>\n",
       "      <td>3</td>\n",
       "      <td>0.0</td>\n",
       "      <td>1</td>\n",
       "      <td>6.1</td>\n",
       "      <td>4.6</td>\n",
       "      <td>7.4</td>\n",
       "      <td>81.0</td>\n",
       "      <td>1017.5</td>\n",
       "      <td>0.2</td>\n",
       "      <td>Winter</td>\n",
       "    </tr>\n",
       "    <tr>\n",
       "      <th>4</th>\n",
       "      <td>2018-01-01</td>\n",
       "      <td>4</td>\n",
       "      <td>0.0</td>\n",
       "      <td>1</td>\n",
       "      <td>6.5</td>\n",
       "      <td>5.6</td>\n",
       "      <td>5.6</td>\n",
       "      <td>77.0</td>\n",
       "      <td>1018.1</td>\n",
       "      <td>0.0</td>\n",
       "      <td>Winter</td>\n",
       "    </tr>\n",
       "  </tbody>\n",
       "</table>\n",
       "</div>"
      ],
      "text/plain": [
       "          Day  Hour  Power  weekday  TMP  WNDCHILL  WNDSPD  Humidity   PRMSL  \\\n",
       "0  2018-01-01     0    0.0        1  7.8       6.6     7.4      82.0    1014   \n",
       "1  2018-01-01     1    0.0        1  7.0       4.0    16.7      82.0  1015.9   \n",
       "2  2018-01-01     2    0.0        1  6.1       4.6     7.4      84.0  1017.1   \n",
       "3  2018-01-01     3    0.0        1  6.1       4.6     7.4      81.0  1017.5   \n",
       "4  2018-01-01     4    0.0        1  6.5       5.6     5.6      77.0  1018.1   \n",
       "\n",
       "   RAIN  Season  \n",
       "0   0.4  Winter  \n",
       "1   2.0  Winter  \n",
       "2   0.2  Winter  \n",
       "3   0.2  Winter  \n",
       "4   0.0  Winter  "
      ]
     },
     "execution_count": 637,
     "metadata": {},
     "output_type": "execute_result"
    }
   ],
   "source": [
    "df_GM.head()"
   ]
  },
  {
   "cell_type": "code",
   "execution_count": 646,
   "metadata": {},
   "outputs": [],
   "source": [
    "df_GM.to_csv('data/base_data.csv',index = False)"
   ]
  },
  {
   "cell_type": "markdown",
   "metadata": {},
   "source": [
    "               "
   ]
  },
  {
   "cell_type": "markdown",
   "metadata": {},
   "source": [
    "### Now there are two main dataframe which we can use. \n",
    "#### 1. One is cs_df_clean, which represents charging data for every time\n",
    "#### 2. One is df_GM, which represents charging data for every hour from 2018 to 2020.3.12 of whole stations"
   ]
  },
  {
   "cell_type": "markdown",
   "metadata": {},
   "source": [
    "### B dig out some useful info.\n",
    "#### 1) At what time were built each stations? "
   ]
  },
  {
   "cell_type": "code",
   "execution_count": 25,
   "metadata": {},
   "outputs": [
    {
     "data": {
      "text/plain": [
       "ChargingStationId\n",
       "118    2013-11-22 09:02:37\n",
       "577    2015-06-18 13:47:10\n",
       "3391   2018-10-24 13:03:13\n",
       "3392   2018-10-24 12:54:51\n",
       "3398   2018-10-24 12:50:27\n",
       "3399   2018-10-24 12:44:34\n",
       "3413   2019-06-19 08:14:33\n",
       "3461   2019-05-24 13:10:39\n",
       "4743   2019-01-22 14:23:54\n",
       "4744   2019-01-22 14:16:46\n",
       "4745   2019-01-23 08:05:05\n",
       "Name: BeginDate, dtype: datetime64[ns]"
      ]
     },
     "execution_count": 25,
     "metadata": {},
     "output_type": "execute_result"
    }
   ],
   "source": [
    "min_date = cs_df_clean.groupby('ChargingStationId').min().BeginDate\n",
    "min_date"
   ]
  },
  {
   "cell_type": "markdown",
   "metadata": {},
   "source": [
    "#### 2) What is the charging power of each station? "
   ]
  },
  {
   "cell_type": "code",
   "execution_count": 26,
   "metadata": {},
   "outputs": [
    {
     "data": {
      "text/plain": [
       "<matplotlib.axes._subplots.AxesSubplot at 0x11a505dd0>"
      ]
     },
     "execution_count": 26,
     "metadata": {},
     "output_type": "execute_result"
    },
    {
     "data": {
      "image/png": "[encoded data removed]",
      "text/plain": [
       "<Figure size 432x288 with 1 Axes>"
      ]
     },
     "metadata": {
      "needs_background": "light"
     },
     "output_type": "display_data"
    }
   ],
   "source": [
    "#compute mximum charging power\n",
    "max_pow = cs_df_clean.groupby('ChargingStationId').max().Power.astype(int)\n",
    "max_pow.plot(kind='barh', title='Max Charging Power per Station [W]')"
   ]
  },
  {
   "cell_type": "markdown",
   "metadata": {},
   "source": [
    "Apart from station 3391, all other stations seem to be able to charge above 11kW and below 22kW. "
   ]
  },
  {
   "cell_type": "code",
   "execution_count": 27,
   "metadata": {},
   "outputs": [
    {
     "data": {
      "text/plain": [
       "<matplotlib.axes._subplots.AxesSubplot at 0x11a00ec50>"
      ]
     },
     "execution_count": 27,
     "metadata": {},
     "output_type": "execute_result"
    },
    {
     "data": {
      "image/png": "[encoded data removed]",
      "text/plain": [
       "<Figure size 432x288 with 1 Axes>"
      ]
     },
     "metadata": {
      "needs_background": "light"
     },
     "output_type": "display_data"
    }
   ],
   "source": [
    "#compute average charging power\n",
    "avg_pow = cs_df_clean.groupby('ChargingStationId').mean().Power.astype(int)\n",
    "avg_pow.plot(kind='barh', title='Mean Charging Power per Station [W]')"
   ]
  },
  {
   "cell_type": "markdown",
   "metadata": {},
   "source": [
    "Most efficient charging stations seem to be **4744** and **3413** (P>5kW).   \n",
    "Less efficient ones seem to be **3392** and **3391** (P<2kW)."
   ]
  },
  {
   "cell_type": "code",
   "execution_count": 48,
   "metadata": {},
   "outputs": [
    {
     "data": {
      "text/plain": [
       "14"
      ]
     },
     "execution_count": 48,
     "metadata": {},
     "output_type": "execute_result"
    }
   ],
   "source": [
    "datetime.now().day"
   ]
  },
  {
   "cell_type": "markdown",
   "metadata": {},
   "source": [
    "#### 3) behavior pattern for User_Id and Null"
   ]
  },
  {
   "cell_type": "code",
   "execution_count": 28,
   "metadata": {},
   "outputs": [],
   "source": [
    "from datetime import datetime"
   ]
  },
  {
   "cell_type": "code",
   "execution_count": 102,
   "metadata": {},
   "outputs": [],
   "source": [
    "cs_03_02_08 = cs_df_clean[cs_df_clean.BeginDate.dt.week == 12] # data from 2020-03-02 to 2020-03-08"
   ]
  },
  {
   "cell_type": "code",
   "execution_count": 103,
   "metadata": {},
   "outputs": [],
   "source": [
    "df_03_new = cs_03_02_08\n",
    "df_03_new.BeginDate = cs_03_02_08.BeginDate.dt.hour\n",
    "df_03_new.EndDate = cs_03_02_08.EndDate.dt.hour +1\n",
    "\n",
    "distrib = np.zeros(24)\n",
    "for i in df_03_new[df_03_new['HashedUserId'] != 0].index:\n",
    "    for h in range(df_03_new.loc[i].BeginDate.astype(int), df_03_new.loc[i].EndDate.astype(int)):\n",
    "        distrib[h] = distrib[h] + df_03_new.loc[i].Power"
   ]
  },
  {
   "cell_type": "code",
   "execution_count": 104,
   "metadata": {},
   "outputs": [
    {
     "data": {
      "text/plain": [
       "Text(0.5, 0, 'Time [h]')"
      ]
     },
     "execution_count": 104,
     "metadata": {},
     "output_type": "execute_result"
    },
    {
     "data": {
      "image/png": "[encoded data removed]",
      "text/plain": [
       "<Figure size 576x360 with 1 Axes>"
      ]
     },
     "metadata": {
      "needs_background": "light"
     },
     "output_type": "display_data"
    }
   ],
   "source": [
    "plt.figure(figsize=(8,5))\n",
    "plt.plot(distrib/1000)\n",
    "plt.title('Aggregated EV charging power for user_id at EPFL (2.03-8.03)')\n",
    "plt.ylabel(r'$P_{charging} [kW]$')\n",
    "plt.xlabel('Time [h]')"
   ]
  },
  {
   "cell_type": "code",
   "execution_count": 105,
   "metadata": {},
   "outputs": [],
   "source": [
    "\n",
    "distrib = np.zeros(24)\n",
    "for i in df_03_new[df_03_new['HashedUserId'] == 0].index:\n",
    "    for h in range(df_03_new.loc[i].BeginDate.astype(int), df_03_new.loc[i].EndDate.astype(int)):\n",
    "        distrib[h] = distrib[h] + df_03_new.loc[i].Power"
   ]
  },
  {
   "cell_type": "code",
   "execution_count": 106,
   "metadata": {},
   "outputs": [
    {
     "data": {
      "text/plain": [
       "Text(0.5, 0, 'Time [h]')"
      ]
     },
     "execution_count": 106,
     "metadata": {},
     "output_type": "execute_result"
    },
    {
     "data": {
      "image/png": "[encoded data removed]",
      "text/plain": [
       "<Figure size 576x360 with 1 Axes>"
      ]
     },
     "metadata": {
      "needs_background": "light"
     },
     "output_type": "display_data"
    }
   ],
   "source": [
    "plt.figure(figsize=(8,5))\n",
    "plt.plot(distrib/1000)\n",
    "plt.title('Aggregated EV charging power for no user_id at EPFL (2.03-8.03)')\n",
    "plt.ylabel(r'$P_{charging} [kW]$')\n",
    "plt.xlabel('Time [h]')"
   ]
  },
  {
   "cell_type": "markdown",
   "metadata": {},
   "source": [
    "It seems that the users who don't have a userid will consume more power in afternoon."
   ]
  },
  {
   "cell_type": "markdown",
   "metadata": {},
   "source": [
    "### C) Charging power profile on 09/03/2020"
   ]
  },
  {
   "cell_type": "code",
   "execution_count": 17,
   "metadata": {
    "scrolled": true
   },
   "outputs": [
    {
     "data": {
      "text/html": [
       "<div>\n",
       "<style scoped>\n",
       "    .dataframe tbody tr th:only-of-type {\n",
       "        vertical-align: middle;\n",
       "    }\n",
       "\n",
       "    .dataframe tbody tr th {\n",
       "        vertical-align: top;\n",
       "    }\n",
       "\n",
       "    .dataframe thead th {\n",
       "        text-align: right;\n",
       "    }\n",
       "</style>\n",
       "<table border=\"1\" class=\"dataframe\">\n",
       "  <thead>\n",
       "    <tr style=\"text-align: right;\">\n",
       "      <th></th>\n",
       "      <th>ChargingStationId</th>\n",
       "      <th>ChargingStationPlugId</th>\n",
       "      <th>BeginDate</th>\n",
       "      <th>EndDate</th>\n",
       "      <th>PowerConsumption</th>\n",
       "      <th>HashedUserId</th>\n",
       "      <th>ChargingDuration</th>\n",
       "      <th>Power</th>\n",
       "      <th>weekday</th>\n",
       "    </tr>\n",
       "    <tr>\n",
       "      <th>ChargeLogId</th>\n",
       "      <th></th>\n",
       "      <th></th>\n",
       "      <th></th>\n",
       "      <th></th>\n",
       "      <th></th>\n",
       "      <th></th>\n",
       "      <th></th>\n",
       "      <th></th>\n",
       "      <th></th>\n",
       "    </tr>\n",
       "  </thead>\n",
       "  <tbody>\n",
       "    <tr>\n",
       "      <th>711743</th>\n",
       "      <td>3392</td>\n",
       "      <td>4402</td>\n",
       "      <td>2020-03-09 12:49:43</td>\n",
       "      <td>2020-03-09 16:18:38</td>\n",
       "      <td>7650</td>\n",
       "      <td>178</td>\n",
       "      <td>209</td>\n",
       "      <td>2196.172249</td>\n",
       "      <td>1</td>\n",
       "    </tr>\n",
       "    <tr>\n",
       "      <th>711097</th>\n",
       "      <td>3413</td>\n",
       "      <td>4440</td>\n",
       "      <td>2020-03-09 05:13:41</td>\n",
       "      <td>2020-03-09 06:58:28</td>\n",
       "      <td>16805</td>\n",
       "      <td>253</td>\n",
       "      <td>105</td>\n",
       "      <td>9602.857143</td>\n",
       "      <td>1</td>\n",
       "    </tr>\n",
       "    <tr>\n",
       "      <th>711135</th>\n",
       "      <td>4745</td>\n",
       "      <td>5836</td>\n",
       "      <td>2020-03-09 05:33:25</td>\n",
       "      <td>2020-03-09 07:39:02</td>\n",
       "      <td>6578</td>\n",
       "      <td>255</td>\n",
       "      <td>126</td>\n",
       "      <td>3132.380952</td>\n",
       "      <td>1</td>\n",
       "    </tr>\n",
       "    <tr>\n",
       "      <th>711156</th>\n",
       "      <td>4743</td>\n",
       "      <td>5834</td>\n",
       "      <td>2020-03-09 07:58:24</td>\n",
       "      <td>2020-03-09 08:05:59</td>\n",
       "      <td>856</td>\n",
       "      <td>326</td>\n",
       "      <td>8</td>\n",
       "      <td>6420.000000</td>\n",
       "      <td>1</td>\n",
       "    </tr>\n",
       "    <tr>\n",
       "      <th>711399</th>\n",
       "      <td>3399</td>\n",
       "      <td>4409</td>\n",
       "      <td>2020-03-09 07:27:21</td>\n",
       "      <td>2020-03-09 11:56:52</td>\n",
       "      <td>8118</td>\n",
       "      <td>180</td>\n",
       "      <td>270</td>\n",
       "      <td>1804.000000</td>\n",
       "      <td>1</td>\n",
       "    </tr>\n",
       "  </tbody>\n",
       "</table>\n",
       "</div>"
      ],
      "text/plain": [
       "             ChargingStationId  ChargingStationPlugId           BeginDate  \\\n",
       "ChargeLogId                                                                 \n",
       "711743                    3392                   4402 2020-03-09 12:49:43   \n",
       "711097                    3413                   4440 2020-03-09 05:13:41   \n",
       "711135                    4745                   5836 2020-03-09 05:33:25   \n",
       "711156                    4743                   5834 2020-03-09 07:58:24   \n",
       "711399                    3399                   4409 2020-03-09 07:27:21   \n",
       "\n",
       "                        EndDate  PowerConsumption  HashedUserId  \\\n",
       "ChargeLogId                                                       \n",
       "711743      2020-03-09 16:18:38              7650           178   \n",
       "711097      2020-03-09 06:58:28             16805           253   \n",
       "711135      2020-03-09 07:39:02              6578           255   \n",
       "711156      2020-03-09 08:05:59               856           326   \n",
       "711399      2020-03-09 11:56:52              8118           180   \n",
       "\n",
       "             ChargingDuration        Power  weekday  \n",
       "ChargeLogId                                          \n",
       "711743                    209  2196.172249        1  \n",
       "711097                    105  9602.857143        1  \n",
       "711135                    126  3132.380952        1  \n",
       "711156                      8  6420.000000        1  \n",
       "711399                    270  1804.000000        1  "
      ]
     },
     "execution_count": 17,
     "metadata": {},
     "output_type": "execute_result"
    }
   ],
   "source": [
    "#focusing data on 09/03/2020\n",
    "df_20_03_09_begin = cs_df_clean[cs_df_clean.BeginDate.dt.date == date(2020, 3, 9)]\n",
    "df_20_03_09 = df_20_03_09_begin[df_20_03_09_begin.EndDate.dt.date == date(2020, 3, 9)]\n",
    "df_20_03_09.head()"
   ]
  },
  {
   "cell_type": "markdown",
   "metadata": {},
   "source": [
    "#### 1) Charging Power per Station"
   ]
  },
  {
   "cell_type": "code",
   "execution_count": 18,
   "metadata": {},
   "outputs": [
    {
     "data": {
      "text/plain": [
       "<matplotlib.axes._subplots.AxesSubplot at 0x11d8ac6d0>"
      ]
     },
     "execution_count": 18,
     "metadata": {},
     "output_type": "execute_result"
    },
    {
     "data": {
      "image/png": "[encoded data removed]",
      "text/plain": [
       "<Figure size 432x288 with 1 Axes>"
      ]
     },
     "metadata": {
      "needs_background": "light"
     },
     "output_type": "display_data"
    }
   ],
   "source": [
    "avg_pow_2020 = df_20_03_09.groupby('ChargingStationId').mean().Power.astype(int)\n",
    "avg_pow_2020.plot(kind='barh', title='Mean Charging Power per Station (09/03) [W]')"
   ]
  },
  {
   "cell_type": "markdown",
   "metadata": {},
   "source": [
    "#### 2) Creating hourly distribution"
   ]
  },
  {
   "cell_type": "code",
   "execution_count": 19,
   "metadata": {},
   "outputs": [],
   "source": [
    "df_2020_new = df_20_03_09\n",
    "df_2020_new.BeginDate = df_20_03_09.BeginDate.dt.hour\n",
    "df_2020_new.EndDate = df_20_03_09.EndDate.dt.hour +1\n",
    "\n",
    "distrib = np.zeros(24)\n",
    "for i in df_2020_new.index:\n",
    "    for h in range(df_2020_new.loc[i].BeginDate.astype(int), df_2020_new.loc[i].EndDate.astype(int)):\n",
    "        distrib[h] = distrib[h] + df_2020_new.loc[i].Power"
   ]
  },
  {
   "cell_type": "code",
   "execution_count": 20,
   "metadata": {},
   "outputs": [
    {
     "data": {
      "text/plain": [
       "Text(0.5, 0, 'Time [h]')"
      ]
     },
     "execution_count": 20,
     "metadata": {},
     "output_type": "execute_result"
    },
    {
     "data": {
      "image/png": "[encoded data removed]",
      "text/plain": [
       "<Figure size 576x360 with 1 Axes>"
      ]
     },
     "metadata": {
      "needs_background": "light"
     },
     "output_type": "display_data"
    }
   ],
   "source": [
    "plt.figure(figsize=(8,5))\n",
    "plt.plot(distrib/1000)\n",
    "plt.title('Aggregated EV charging power at EPFL (09/03/20)')\n",
    "plt.ylabel(r'$P_{charging} [kW]$')\n",
    "plt.xlabel('Time [h]')\n"
   ]
  },
  {
   "cell_type": "code",
   "execution_count": 21,
   "metadata": {},
   "outputs": [
    {
     "data": {
      "text/plain": [
       "array([    0.        ,     0.        ,     0.        ,     0.        ,\n",
       "           0.        , 12735.23809524, 12735.23809524, 22252.27240785,\n",
       "       20106.23321113, 13686.23321113, 15933.2029081 , 15933.2029081 ,\n",
       "       23452.15837368, 16710.52572062, 14463.55602365, 17680.87309682,\n",
       "       16775.59007796,  4235.3175392 ,   986.34175566,     0.        ,\n",
       "           0.        ,     0.        ,     0.        ,     0.        ])"
      ]
     },
     "execution_count": 21,
     "metadata": {},
     "output_type": "execute_result"
    }
   ],
   "source": [
    "distrib"
   ]
  },
  {
   "cell_type": "code",
   "execution_count": 648,
   "metadata": {},
   "outputs": [],
   "source": [
    "aa = df_GM[df_GM.Day == date(2020, 3, 9)].Power\n",
    "aa.index = df_GM[df_GM.Day == date(2020, 3, 9)].Hour"
   ]
  },
  {
   "cell_type": "code",
   "execution_count": 649,
   "metadata": {},
   "outputs": [
    {
     "data": {
      "text/plain": [
       "Text(0.5, 0, 'Time [h]')"
      ]
     },
     "execution_count": 649,
     "metadata": {},
     "output_type": "execute_result"
    },
    {
     "data": {
      "image/png": "[encoded data removed]",
      "text/plain": [
       "<Figure size 576x360 with 1 Axes>"
      ]
     },
     "metadata": {
      "needs_background": "light"
     },
     "output_type": "display_data"
    }
   ],
   "source": [
    "plt.figure(figsize=(8,5))\n",
    "plt.plot(aa/1000)\n",
    "plt.title('Aggregated EV charging power at EPFL (09/03/20)')\n",
    "plt.ylabel(r'$P_{charging} [kW]$')\n",
    "plt.xlabel('Time [h]')\n",
    "\n"
   ]
  },
  {
   "cell_type": "markdown",
   "metadata": {},
   "source": [
    "### the images for two data set are similar. cs_df_clean does not consider the charging which spanned the midnight, by the contrary df_GM does."
   ]
  },
  {
   "cell_type": "code",
   "execution_count": null,
   "metadata": {},
   "outputs": [],
   "source": []
  }
 ],
 "metadata": {
  "kernelspec": {
   "display_name": "Python 3",
   "language": "python",
   "name": "python3"
  },
  "language_info": {
   "codemirror_mode": {
    "name": "ipython",
    "version": 3
   },
   "file_extension": ".py",
   "mimetype": "text/x-python",
   "name": "python",
   "nbconvert_exporter": "python",
   "pygments_lexer": "ipython3",
   "version": "3.7.4"
  }
 },
 "nbformat": 4,
 "nbformat_minor": 2
}
