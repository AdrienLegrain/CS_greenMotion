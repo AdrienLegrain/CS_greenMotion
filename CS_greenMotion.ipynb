{
 "cells": [
  {
   "cell_type": "markdown",
   "metadata": {},
   "source": [
    "# Charging Stations at EPFL (GreenMotion dataset)"
   ]
  },
  {
   "cell_type": "code",
   "execution_count": 56,
   "metadata": {},
   "outputs": [],
   "source": [
    "import pandas as pd\n",
    "import numpy as np\n",
    "import matplotlib.pyplot as plt\n",
    "pd.options.mode.chained_assignment = None  # default='warn', Mutes warnings when copying a slice from a DataFrame.\n",
    "import math\n",
    "from math import sqrt\n",
    "import re\n",
    "from datetime import datetime\n",
    "from datetime import *"
   ]
  },
  {
   "cell_type": "code",
   "execution_count": 57,
   "metadata": {},
   "outputs": [],
   "source": [
    "DATA_FOLDER = 'data'"
   ]
  },
  {
   "cell_type": "markdown",
   "metadata": {},
   "source": [
    "### A. Loading phase\n",
    "Load the EPFL charging stations excel file into a `DataFrames`. "
   ]
  },
  {
   "cell_type": "code",
   "execution_count": 68,
   "metadata": {},
   "outputs": [],
   "source": [
    "cs_dataframe = pd.read_excel(\"{}/EPFL-data-extract.xlsx\".format(DATA_FOLDER), index_col=0) "
   ]
  },
  {
   "cell_type": "code",
   "execution_count": 128,
   "metadata": {},
   "outputs": [
    {
     "data": {
      "text/html": [
       "<div>\n",
       "<style scoped>\n",
       "    .dataframe tbody tr th:only-of-type {\n",
       "        vertical-align: middle;\n",
       "    }\n",
       "\n",
       "    .dataframe tbody tr th {\n",
       "        vertical-align: top;\n",
       "    }\n",
       "\n",
       "    .dataframe thead th {\n",
       "        text-align: right;\n",
       "    }\n",
       "</style>\n",
       "<table border=\"1\" class=\"dataframe\">\n",
       "  <thead>\n",
       "    <tr style=\"text-align: right;\">\n",
       "      <th></th>\n",
       "      <th>ChargingStationId</th>\n",
       "      <th>ChargingStationPlugId</th>\n",
       "      <th>BeginDate</th>\n",
       "      <th>EndDate</th>\n",
       "      <th>PowerConsumption</th>\n",
       "      <th>HashedUserId</th>\n",
       "    </tr>\n",
       "    <tr>\n",
       "      <th>ChargeLogId</th>\n",
       "      <th></th>\n",
       "      <th></th>\n",
       "      <th></th>\n",
       "      <th></th>\n",
       "      <th></th>\n",
       "      <th></th>\n",
       "    </tr>\n",
       "  </thead>\n",
       "  <tbody>\n",
       "    <tr>\n",
       "      <th>4911</th>\n",
       "      <td>118</td>\n",
       "      <td>165</td>\n",
       "      <td>2013-11-22 09:02:37</td>\n",
       "      <td>2013-11-22 09:03:09</td>\n",
       "      <td>0</td>\n",
       "      <td>0x725B61EAA9973F5EF7FE6BE2033C5F264982C8C04ED3...</td>\n",
       "    </tr>\n",
       "    <tr>\n",
       "      <th>4912</th>\n",
       "      <td>118</td>\n",
       "      <td>166</td>\n",
       "      <td>2013-11-22 09:02:49</td>\n",
       "      <td>2013-11-22 09:03:21</td>\n",
       "      <td>0</td>\n",
       "      <td>0x70BD1D7BE1297329FE64409179DA9D1B789BE5283D0C...</td>\n",
       "    </tr>\n",
       "    <tr>\n",
       "      <th>4913</th>\n",
       "      <td>118</td>\n",
       "      <td>166</td>\n",
       "      <td>2013-11-22 09:08:29</td>\n",
       "      <td>2013-11-22 09:09:17</td>\n",
       "      <td>0</td>\n",
       "      <td>0x70BD1D7BE1297329FE64409179DA9D1B789BE5283D0C...</td>\n",
       "    </tr>\n",
       "    <tr>\n",
       "      <th>4914</th>\n",
       "      <td>118</td>\n",
       "      <td>166</td>\n",
       "      <td>2013-11-22 09:10:36</td>\n",
       "      <td>2013-11-22 09:10:54</td>\n",
       "      <td>0</td>\n",
       "      <td>0x70BD1D7BE1297329FE64409179DA9D1B789BE5283D0C...</td>\n",
       "    </tr>\n",
       "    <tr>\n",
       "      <th>4915</th>\n",
       "      <td>118</td>\n",
       "      <td>166</td>\n",
       "      <td>2013-11-22 09:11:57</td>\n",
       "      <td>2013-11-22 09:12:13</td>\n",
       "      <td>0</td>\n",
       "      <td>0x70BD1D7BE1297329FE64409179DA9D1B789BE5283D0C...</td>\n",
       "    </tr>\n",
       "  </tbody>\n",
       "</table>\n",
       "</div>"
      ],
      "text/plain": [
       "             ChargingStationId  ChargingStationPlugId           BeginDate  \\\n",
       "ChargeLogId                                                                 \n",
       "4911                       118                    165 2013-11-22 09:02:37   \n",
       "4912                       118                    166 2013-11-22 09:02:49   \n",
       "4913                       118                    166 2013-11-22 09:08:29   \n",
       "4914                       118                    166 2013-11-22 09:10:36   \n",
       "4915                       118                    166 2013-11-22 09:11:57   \n",
       "\n",
       "                        EndDate  PowerConsumption  \\\n",
       "ChargeLogId                                         \n",
       "4911        2013-11-22 09:03:09                 0   \n",
       "4912        2013-11-22 09:03:21                 0   \n",
       "4913        2013-11-22 09:09:17                 0   \n",
       "4914        2013-11-22 09:10:54                 0   \n",
       "4915        2013-11-22 09:12:13                 0   \n",
       "\n",
       "                                                  HashedUserId  \n",
       "ChargeLogId                                                     \n",
       "4911         0x725B61EAA9973F5EF7FE6BE2033C5F264982C8C04ED3...  \n",
       "4912         0x70BD1D7BE1297329FE64409179DA9D1B789BE5283D0C...  \n",
       "4913         0x70BD1D7BE1297329FE64409179DA9D1B789BE5283D0C...  \n",
       "4914         0x70BD1D7BE1297329FE64409179DA9D1B789BE5283D0C...  \n",
       "4915         0x70BD1D7BE1297329FE64409179DA9D1B789BE5283D0C...  "
      ]
     },
     "execution_count": 128,
     "metadata": {},
     "output_type": "execute_result"
    }
   ],
   "source": [
    "cs_dataframe.head()"
   ]
  },
  {
   "cell_type": "markdown",
   "metadata": {},
   "source": [
    "### B. Exploring the data"
   ]
  },
  {
   "cell_type": "markdown",
   "metadata": {},
   "source": [
    "Useful functions:"
   ]
  },
  {
   "cell_type": "code",
   "execution_count": 182,
   "metadata": {},
   "outputs": [],
   "source": [
    "def nb_minutes(EndDate, BeginDate):\n",
    "    delta = EndDate - BeginDate\n",
    "    nb_min_final_day = delta.seconds//60\n",
    "    nb_days = delta.days\n",
    "    nb_min = nb_min_final_day + nb_days*24*60 + 1\n",
    "    return nb_min"
   ]
  },
  {
   "cell_type": "markdown",
   "metadata": {},
   "source": [
    "Computing charging duration and power:"
   ]
  },
  {
   "cell_type": "code",
   "execution_count": 301,
   "metadata": {},
   "outputs": [
    {
     "data": {
      "text/html": [
       "<div>\n",
       "<style scoped>\n",
       "    .dataframe tbody tr th:only-of-type {\n",
       "        vertical-align: middle;\n",
       "    }\n",
       "\n",
       "    .dataframe tbody tr th {\n",
       "        vertical-align: top;\n",
       "    }\n",
       "\n",
       "    .dataframe thead th {\n",
       "        text-align: right;\n",
       "    }\n",
       "</style>\n",
       "<table border=\"1\" class=\"dataframe\">\n",
       "  <thead>\n",
       "    <tr style=\"text-align: right;\">\n",
       "      <th></th>\n",
       "      <th>ChargingStationId</th>\n",
       "      <th>ChargingStationPlugId</th>\n",
       "      <th>BeginDate</th>\n",
       "      <th>EndDate</th>\n",
       "      <th>PowerConsumption</th>\n",
       "      <th>ChargingDuration</th>\n",
       "      <th>Power</th>\n",
       "    </tr>\n",
       "    <tr>\n",
       "      <th>ChargeLogId</th>\n",
       "      <th></th>\n",
       "      <th></th>\n",
       "      <th></th>\n",
       "      <th></th>\n",
       "      <th></th>\n",
       "      <th></th>\n",
       "      <th></th>\n",
       "    </tr>\n",
       "  </thead>\n",
       "  <tbody>\n",
       "    <tr>\n",
       "      <th>4911</th>\n",
       "      <td>118</td>\n",
       "      <td>165</td>\n",
       "      <td>2013-11-22 09:02:37</td>\n",
       "      <td>2013-11-22 09:03:09</td>\n",
       "      <td>0</td>\n",
       "      <td>1</td>\n",
       "      <td>0.0</td>\n",
       "    </tr>\n",
       "    <tr>\n",
       "      <th>4912</th>\n",
       "      <td>118</td>\n",
       "      <td>166</td>\n",
       "      <td>2013-11-22 09:02:49</td>\n",
       "      <td>2013-11-22 09:03:21</td>\n",
       "      <td>0</td>\n",
       "      <td>1</td>\n",
       "      <td>0.0</td>\n",
       "    </tr>\n",
       "    <tr>\n",
       "      <th>4913</th>\n",
       "      <td>118</td>\n",
       "      <td>166</td>\n",
       "      <td>2013-11-22 09:08:29</td>\n",
       "      <td>2013-11-22 09:09:17</td>\n",
       "      <td>0</td>\n",
       "      <td>1</td>\n",
       "      <td>0.0</td>\n",
       "    </tr>\n",
       "    <tr>\n",
       "      <th>4914</th>\n",
       "      <td>118</td>\n",
       "      <td>166</td>\n",
       "      <td>2013-11-22 09:10:36</td>\n",
       "      <td>2013-11-22 09:10:54</td>\n",
       "      <td>0</td>\n",
       "      <td>1</td>\n",
       "      <td>0.0</td>\n",
       "    </tr>\n",
       "    <tr>\n",
       "      <th>4915</th>\n",
       "      <td>118</td>\n",
       "      <td>166</td>\n",
       "      <td>2013-11-22 09:11:57</td>\n",
       "      <td>2013-11-22 09:12:13</td>\n",
       "      <td>0</td>\n",
       "      <td>1</td>\n",
       "      <td>0.0</td>\n",
       "    </tr>\n",
       "  </tbody>\n",
       "</table>\n",
       "</div>"
      ],
      "text/plain": [
       "             ChargingStationId  ChargingStationPlugId           BeginDate  \\\n",
       "ChargeLogId                                                                 \n",
       "4911                       118                    165 2013-11-22 09:02:37   \n",
       "4912                       118                    166 2013-11-22 09:02:49   \n",
       "4913                       118                    166 2013-11-22 09:08:29   \n",
       "4914                       118                    166 2013-11-22 09:10:36   \n",
       "4915                       118                    166 2013-11-22 09:11:57   \n",
       "\n",
       "                        EndDate  PowerConsumption  ChargingDuration  Power  \n",
       "ChargeLogId                                                                 \n",
       "4911        2013-11-22 09:03:09                 0                 1    0.0  \n",
       "4912        2013-11-22 09:03:21                 0                 1    0.0  \n",
       "4913        2013-11-22 09:09:17                 0                 1    0.0  \n",
       "4914        2013-11-22 09:10:54                 0                 1    0.0  \n",
       "4915        2013-11-22 09:12:13                 0                 1    0.0  "
      ]
     },
     "execution_count": 301,
     "metadata": {},
     "output_type": "execute_result"
    }
   ],
   "source": [
    "delta_vect = cs_dataframe.apply(lambda x : nb_minutes(x.EndDate, x.BeginDate), axis=1) #compute minutes of charge\n",
    "cs_dataframe[\"ChargingDuration\"] = delta_vect \n",
    "cs_dataframe[\"Power\"] = cs_dataframe[\"PowerConsumption\"] / cs_dataframe[\"ChargingDuration\"] * 60 # compute power\n",
    "cs_df = cs_dataframe.drop('HashedUserId', axis=1)\n",
    "cs_df.head()"
   ]
  },
  {
   "cell_type": "markdown",
   "metadata": {},
   "source": [
    "Let's remove unrealistic charging powers:"
   ]
  },
  {
   "cell_type": "code",
   "execution_count": 173,
   "metadata": {},
   "outputs": [],
   "source": [
    "cs_df_clean = cs_df[cs_df.Power < 30000] # removing outliers (P>30kW...)"
   ]
  },
  {
   "cell_type": "markdown",
   "metadata": {},
   "source": [
    "#### 1) At what time were built each stations? "
   ]
  },
  {
   "cell_type": "code",
   "execution_count": 181,
   "metadata": {},
   "outputs": [
    {
     "data": {
      "text/plain": [
       "ChargingStationId\n",
       "118    2013-11-22 09:02:37\n",
       "577    2015-06-18 13:47:10\n",
       "3391   2018-10-24 13:03:13\n",
       "3392   2018-10-24 12:54:51\n",
       "3398   2018-10-24 12:50:27\n",
       "3399   2018-10-24 12:44:34\n",
       "3413   2019-06-19 08:14:33\n",
       "3461   2019-05-24 13:10:39\n",
       "4743   2019-01-22 14:23:54\n",
       "4744   2019-01-22 14:16:46\n",
       "4745   2019-01-23 08:05:05\n",
       "Name: BeginDate, dtype: datetime64[ns]"
      ]
     },
     "execution_count": 181,
     "metadata": {},
     "output_type": "execute_result"
    }
   ],
   "source": [
    "min_date = cs_df_clean.groupby('ChargingStationId').min().BeginDate\n",
    "min_date"
   ]
  },
  {
   "cell_type": "markdown",
   "metadata": {},
   "source": [
    "#### 2) What is the charging power of each station? "
   ]
  },
  {
   "cell_type": "code",
   "execution_count": 306,
   "metadata": {},
   "outputs": [
    {
     "data": {
      "text/plain": [
       "<matplotlib.axes._subplots.AxesSubplot at 0x284440ee198>"
      ]
     },
     "execution_count": 306,
     "metadata": {},
     "output_type": "execute_result"
    },
    {
     "data": {
      "image/png": "[encoded data removed]",
      "text/plain": [
       "<Figure size 432x288 with 1 Axes>"
      ]
     },
     "metadata": {},
     "output_type": "display_data"
    }
   ],
   "source": [
    "#compute mximum charging power\n",
    "max_pow = cs_df_clean.groupby('ChargingStationId').max().Power.astype(int)\n",
    "max_pow.plot(kind='barh', title='Max Charging Power per Station [W]')"
   ]
  },
  {
   "cell_type": "markdown",
   "metadata": {},
   "source": [
    "Apart from station 3391, all other stations seem to be able to charge above 11kW and below 22kW. "
   ]
  },
  {
   "cell_type": "code",
   "execution_count": 304,
   "metadata": {},
   "outputs": [
    {
     "data": {
      "text/plain": [
       "<matplotlib.axes._subplots.AxesSubplot at 0x2843eb798d0>"
      ]
     },
     "execution_count": 304,
     "metadata": {},
     "output_type": "execute_result"
    },
    {
     "data": {
      "image/png": "[encoded data removed]",
      "text/plain": [
       "<Figure size 432x288 with 1 Axes>"
      ]
     },
     "metadata": {},
     "output_type": "display_data"
    }
   ],
   "source": [
    "#compute average charging power\n",
    "avg_pow = cs_df_clean.groupby('ChargingStationId').mean().Power.astype(int)\n",
    "avg_pow.plot(kind='barh', title='Mean Charging Power per Station [W]')"
   ]
  },
  {
   "cell_type": "markdown",
   "metadata": {},
   "source": [
    "Most efficient charging stations seem to be **4744** and **3413** (P>5kW).   \n",
    "Less efficient ones seem to be **3392** and **3391** (P<2kW)."
   ]
  },
  {
   "cell_type": "markdown",
   "metadata": {},
   "source": [
    "### C) Charging power profile on 09/03/2020"
   ]
  },
  {
   "cell_type": "code",
   "execution_count": 303,
   "metadata": {},
   "outputs": [
    {
     "data": {
      "text/html": [
       "<div>\n",
       "<style scoped>\n",
       "    .dataframe tbody tr th:only-of-type {\n",
       "        vertical-align: middle;\n",
       "    }\n",
       "\n",
       "    .dataframe tbody tr th {\n",
       "        vertical-align: top;\n",
       "    }\n",
       "\n",
       "    .dataframe thead th {\n",
       "        text-align: right;\n",
       "    }\n",
       "</style>\n",
       "<table border=\"1\" class=\"dataframe\">\n",
       "  <thead>\n",
       "    <tr style=\"text-align: right;\">\n",
       "      <th></th>\n",
       "      <th>ChargingStationId</th>\n",
       "      <th>ChargingStationPlugId</th>\n",
       "      <th>BeginDate</th>\n",
       "      <th>EndDate</th>\n",
       "      <th>PowerConsumption</th>\n",
       "      <th>ChargingDuration</th>\n",
       "      <th>Power</th>\n",
       "    </tr>\n",
       "    <tr>\n",
       "      <th>ChargeLogId</th>\n",
       "      <th></th>\n",
       "      <th></th>\n",
       "      <th></th>\n",
       "      <th></th>\n",
       "      <th></th>\n",
       "      <th></th>\n",
       "      <th></th>\n",
       "    </tr>\n",
       "  </thead>\n",
       "  <tbody>\n",
       "    <tr>\n",
       "      <th>711743</th>\n",
       "      <td>3392</td>\n",
       "      <td>4402</td>\n",
       "      <td>2020-03-09 12:49:43</td>\n",
       "      <td>2020-03-09 16:18:38</td>\n",
       "      <td>7650</td>\n",
       "      <td>209</td>\n",
       "      <td>2196.172249</td>\n",
       "    </tr>\n",
       "    <tr>\n",
       "      <th>711097</th>\n",
       "      <td>3413</td>\n",
       "      <td>4440</td>\n",
       "      <td>2020-03-09 05:13:41</td>\n",
       "      <td>2020-03-09 06:58:28</td>\n",
       "      <td>16805</td>\n",
       "      <td>105</td>\n",
       "      <td>9602.857143</td>\n",
       "    </tr>\n",
       "    <tr>\n",
       "      <th>711135</th>\n",
       "      <td>4745</td>\n",
       "      <td>5836</td>\n",
       "      <td>2020-03-09 05:33:25</td>\n",
       "      <td>2020-03-09 07:39:02</td>\n",
       "      <td>6578</td>\n",
       "      <td>126</td>\n",
       "      <td>3132.380952</td>\n",
       "    </tr>\n",
       "    <tr>\n",
       "      <th>711156</th>\n",
       "      <td>4743</td>\n",
       "      <td>5834</td>\n",
       "      <td>2020-03-09 07:58:24</td>\n",
       "      <td>2020-03-09 08:05:59</td>\n",
       "      <td>856</td>\n",
       "      <td>8</td>\n",
       "      <td>6420.000000</td>\n",
       "    </tr>\n",
       "    <tr>\n",
       "      <th>711399</th>\n",
       "      <td>3399</td>\n",
       "      <td>4409</td>\n",
       "      <td>2020-03-09 07:27:21</td>\n",
       "      <td>2020-03-09 11:56:52</td>\n",
       "      <td>8118</td>\n",
       "      <td>270</td>\n",
       "      <td>1804.000000</td>\n",
       "    </tr>\n",
       "  </tbody>\n",
       "</table>\n",
       "</div>"
      ],
      "text/plain": [
       "             ChargingStationId  ChargingStationPlugId           BeginDate  \\\n",
       "ChargeLogId                                                                 \n",
       "711743                    3392                   4402 2020-03-09 12:49:43   \n",
       "711097                    3413                   4440 2020-03-09 05:13:41   \n",
       "711135                    4745                   5836 2020-03-09 05:33:25   \n",
       "711156                    4743                   5834 2020-03-09 07:58:24   \n",
       "711399                    3399                   4409 2020-03-09 07:27:21   \n",
       "\n",
       "                        EndDate  PowerConsumption  ChargingDuration  \\\n",
       "ChargeLogId                                                           \n",
       "711743      2020-03-09 16:18:38              7650               209   \n",
       "711097      2020-03-09 06:58:28             16805               105   \n",
       "711135      2020-03-09 07:39:02              6578               126   \n",
       "711156      2020-03-09 08:05:59               856                 8   \n",
       "711399      2020-03-09 11:56:52              8118               270   \n",
       "\n",
       "                   Power  \n",
       "ChargeLogId               \n",
       "711743       2196.172249  \n",
       "711097       9602.857143  \n",
       "711135       3132.380952  \n",
       "711156       6420.000000  \n",
       "711399       1804.000000  "
      ]
     },
     "execution_count": 303,
     "metadata": {},
     "output_type": "execute_result"
    }
   ],
   "source": [
    "#focusing data on 09/03/2020\n",
    "df_2020_begin = cs_df_clean[cs_df_clean.BeginDate.dt.date == date(2020, 3, 9)]\n",
    "df_2020 = df_2020_begin[df_2020_begin.EndDate.dt.date == date(2020, 3, 9)]\n",
    "df_2020.head()"
   ]
  },
  {
   "cell_type": "markdown",
   "metadata": {},
   "source": [
    "#### 1) Charging Power per Station"
   ]
  },
  {
   "cell_type": "code",
   "execution_count": 305,
   "metadata": {},
   "outputs": [
    {
     "data": {
      "text/plain": [
       "<matplotlib.axes._subplots.AxesSubplot at 0x284440a9c50>"
      ]
     },
     "execution_count": 305,
     "metadata": {},
     "output_type": "execute_result"
    },
    {
     "data": {
      "image/png": "[encoded data removed]",
      "text/plain": [
       "<Figure size 432x288 with 1 Axes>"
      ]
     },
     "metadata": {},
     "output_type": "display_data"
    }
   ],
   "source": [
    "avg_pow_2020 = df_2020.groupby('ChargingStationId').mean().Power.astype(int)\n",
    "avg_pow_2020.plot(kind='barh', title='Mean Charging Power per Station (09/03) [W]')"
   ]
  },
  {
   "cell_type": "markdown",
   "metadata": {},
   "source": [
    "#### 2) Creating hourly distribution"
   ]
  },
  {
   "cell_type": "code",
   "execution_count": 289,
   "metadata": {},
   "outputs": [],
   "source": [
    "df_2020_new = df_2020\n",
    "df_2020_new.BeginDate = df_2020.BeginDate.dt.hour\n",
    "df_2020_new.EndDate = df_2020.EndDate.dt.hour + 1\n",
    "\n",
    "distrib = np.zeros(24)\n",
    "for i in df_2020_new.index:\n",
    "    for h in range(df_2020_new.loc[i].BeginDate.astype(int), df_2020_new.loc[i].EndDate.astype(int)):\n",
    "        distrib[h] = distrib[h] + df_2020_new.loc[i].Power"
   ]
  },
  {
   "cell_type": "code",
   "execution_count": 299,
   "metadata": {},
   "outputs": [
    {
     "data": {
      "text/plain": [
       "Text(0.5,0,'Time [h]')"
      ]
     },
     "execution_count": 299,
     "metadata": {},
     "output_type": "execute_result"
    },
    {
     "data": {
      "image/png": "[encoded data removed]",
      "text/plain": [
       "<Figure size 576x360 with 1 Axes>"
      ]
     },
     "metadata": {},
     "output_type": "display_data"
    }
   ],
   "source": [
    "plt.figure(figsize=(8,5))\n",
    "plt.plot(distrib/1000)\n",
    "plt.title('Aggregated EV charging power at EPFL (09/03/20)')\n",
    "plt.ylabel(r'$P_{charging} [kW]$')\n",
    "plt.xlabel('Time [h]')\n"
   ]
  },
  {
   "cell_type": "code",
   "execution_count": null,
   "metadata": {},
   "outputs": [],
   "source": []
  }
 ],
 "metadata": {
  "kernelspec": {
   "display_name": "Python 3",
   "language": "python",
   "name": "python3"
  },
  "language_info": {
   "codemirror_mode": {
    "name": "ipython",
    "version": 3
   },
   "file_extension": ".py",
   "mimetype": "text/x-python",
   "name": "python",
   "nbconvert_exporter": "python",
   "pygments_lexer": "ipython3",
   "version": "3.6.5"
  }
 },
 "nbformat": 4,
 "nbformat_minor": 2
}
