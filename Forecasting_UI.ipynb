{
 "cells": [
  {
   "cell_type": "markdown",
   "metadata": {},
   "source": [
    "## This file is used to get forecasting data and error"
   ]
  },
  {
   "cell_type": "code",
   "execution_count": 42,
   "metadata": {},
   "outputs": [],
   "source": [
    "import pandas as pd\n",
    "import numpy as np\n",
    "import matplotlib.pyplot as plt\n",
    "pd.options.mode.chained_assignment = None  # default='warn', Mutes warnings when copying a slice from a DataFrame.\n",
    "import math\n",
    "from math import sqrt\n",
    "import re\n",
    "from datetime import datetime\n",
    "import datetime\n",
    "from sklearn import preprocessing\n",
    "import sys\n",
    "import time"
   ]
  },
  {
   "cell_type": "code",
   "execution_count": 344,
   "metadata": {},
   "outputs": [],
   "source": [
    "hist_data = pd.read_csv(\"data/power_data_15minutes.csv\")"
   ]
  },
  {
   "cell_type": "code",
   "execution_count": 345,
   "metadata": {},
   "outputs": [],
   "source": [
    "hist_data.Date = pd.to_datetime(hist_data.Date)"
   ]
  },
  {
   "cell_type": "code",
   "execution_count": 346,
   "metadata": {},
   "outputs": [],
   "source": [
    "season = {1:'Winter', 2:'Winter', 3:'Spring', 4:'Spring', 5:'Spring', 6:'Summer', 7:'Summer',\\\n",
    "         8:'Summer', 9:'Fall', 10:'Fall', 11:'Fall', 12:'Winter'}"
   ]
  },
  {
   "cell_type": "markdown",
   "metadata": {},
   "source": [
    "#normalization\n",
    "Cha = ['TMP','WNDCHILL','WNDSPD','Humidity','PRMSL','RAIN']\n",
    "min_max_scaler = preprocessing.MinMaxScaler()\n",
    "hist_data[Cha] = min_max_scaler.fit_transform(hist_data[Cha]) "
   ]
  },
  {
   "cell_type": "markdown",
   "metadata": {},
   "source": [
    "  "
   ]
  },
  {
   "cell_type": "code",
   "execution_count": 347,
   "metadata": {},
   "outputs": [],
   "source": [
    "#target_date info.\n",
    "target_year = 2020  \n",
    "target_month = 5\n",
    "target_day = 1"
   ]
  },
  {
   "cell_type": "code",
   "execution_count": 348,
   "metadata": {},
   "outputs": [],
   "source": [
    "target_season = season[target_month]\n",
    "\n",
    "target_date = datetime.date(target_year, target_month, target_day)\n",
    "if (target_date.weekday() + 1) < 6:\n",
    "    target_weekday = 1\n",
    "else:\n",
    "    target_weekday = 0 \n"
   ]
  },
  {
   "cell_type": "code",
   "execution_count": 349,
   "metadata": {},
   "outputs": [],
   "source": [
    "tar_weather = pd.read_csv(\"data/target_day_weather.csv\", sep=',', header = None, index_col=0)\\\n",
    ".T"
   ]
  },
  {
   "cell_type": "markdown",
   "metadata": {},
   "source": [
    "        "
   ]
  },
  {
   "cell_type": "code",
   "execution_count": 350,
   "metadata": {},
   "outputs": [],
   "source": [
    "# get omega_A\n",
    "omega_A = hist_data[(hist_data.Season == target_season) & (hist_data.weekday == target_weekday)]"
   ]
  },
  {
   "cell_type": "code",
   "execution_count": 351,
   "metadata": {},
   "outputs": [],
   "source": [
    "omega_A['Hour'] = omega_A.Date.dt.hour\n",
    "omega_A['Day'] = omega_A.Date.dt.date"
   ]
  },
  {
   "cell_type": "code",
   "execution_count": 352,
   "metadata": {},
   "outputs": [],
   "source": [
    "omega_A = omega_A.drop_duplicates(subset=['Day', 'Hour'], keep='first', inplace=False)"
   ]
  },
  {
   "cell_type": "code",
   "execution_count": 353,
   "metadata": {},
   "outputs": [],
   "source": [
    "def get_omega_B(omega_A):\n",
    "    time_lst = list(omega_A.Day.unique())\n",
    "    selected = list(time_lst)[-10:]\n",
    "    return selected"
   ]
  },
  {
   "cell_type": "code",
   "execution_count": 354,
   "metadata": {},
   "outputs": [],
   "source": [
    "omega_B = get_omega_B(omega_A)"
   ]
  },
  {
   "cell_type": "code",
   "execution_count": 355,
   "metadata": {},
   "outputs": [
    {
     "data": {
      "text/plain": [
       "[datetime.date(2019, 5, 31),\n",
       " datetime.date(2020, 3, 2),\n",
       " datetime.date(2020, 3, 3),\n",
       " datetime.date(2020, 3, 4),\n",
       " datetime.date(2020, 3, 5),\n",
       " datetime.date(2020, 3, 6),\n",
       " datetime.date(2020, 3, 9),\n",
       " datetime.date(2020, 3, 10),\n",
       " datetime.date(2020, 3, 11),\n",
       " datetime.date(2020, 3, 12)]"
      ]
     },
     "execution_count": 355,
     "metadata": {},
     "output_type": "execute_result"
    }
   ],
   "source": [
    "omega_B"
   ]
  },
  {
   "cell_type": "code",
   "execution_count": 356,
   "metadata": {},
   "outputs": [],
   "source": [
    "def weather_distance(X, target):\n",
    "    time_series = pd.Series([0,2,4,6,8,10,12,14,16,18,20,22])\n",
    "    \n",
    "    del_T = time_series.apply(lambda x: abs(target[target.Hour == x].Temperature.values \\\n",
    "                              - X[(X.Hour == x)].TMP.values)[0])\n",
    "    \n",
    "    del_W = time_series.apply(lambda x: abs(target[target.Hour == x].Wind.values \\\n",
    "                              - X[(X.Hour == x)].WNDSPD.values)[0])\n",
    "    \n",
    "    del_H = time_series.apply(lambda x: abs(target[target.Hour == x].Humidity.values \\\n",
    "                              -  X[(X.Hour == x)].Humidity.values)[0])\n",
    "    \n",
    "    del_P = time_series.apply(lambda x: abs(target[target.Hour == x].Pressure.values \\\n",
    "                              - X[(X.Hour == x)].PRMSL.values)[0])\n",
    "    \n",
    "    del_R = time_series.apply(lambda x: abs(target[target.Hour == x].Rain.values \\\n",
    "                              - X[(X.Hour == x)].RAIN.values)[0])\n",
    "    \n",
    "    return [del_T[del_T.notnull()].mean(), del_W[del_W.notnull()].mean(), del_H[del_H.notnull()].mean(), \\\n",
    "           del_P[del_P.notnull()].mean(), del_R[del_R.notnull()].mean()]"
   ]
  },
  {
   "cell_type": "code",
   "execution_count": 357,
   "metadata": {},
   "outputs": [],
   "source": [
    "del_matrix = list()\n",
    "for i in omega_B:  \n",
    "    del_matrix.append(weather_distance(omega_A[omega_A.Day == i], tar_weather)) #got weather distance of Omega_B's data"
   ]
  },
  {
   "cell_type": "code",
   "execution_count": 358,
   "metadata": {},
   "outputs": [],
   "source": [
    "min_max_scaler = preprocessing.MinMaxScaler()\n",
    "nor_mat = min_max_scaler.fit_transform(pd.DataFrame(del_matrix)).sum(axis = 1) #normalize the distance"
   ]
  },
  {
   "cell_type": "code",
   "execution_count": 359,
   "metadata": {},
   "outputs": [],
   "source": [
    "weather_dic = dict(zip(omega_B, nor_mat))\n",
    "sorted_wea_dis = sorted(weather_dic.items(), key=lambda d: d[1])"
   ]
  },
  {
   "cell_type": "code",
   "execution_count": 360,
   "metadata": {},
   "outputs": [],
   "source": [
    "omega_C = [x[0] for x in sorted_wea_dis[:5]]"
   ]
  },
  {
   "cell_type": "code",
   "execution_count": 361,
   "metadata": {},
   "outputs": [
    {
     "data": {
      "text/plain": [
       "[datetime.date(2020, 3, 6),\n",
       " datetime.date(2020, 3, 3),\n",
       " datetime.date(2020, 3, 12),\n",
       " datetime.date(2020, 3, 9),\n",
       " datetime.date(2020, 3, 4)]"
      ]
     },
     "execution_count": 361,
     "metadata": {},
     "output_type": "execute_result"
    }
   ],
   "source": [
    "omega_C"
   ]
  },
  {
   "cell_type": "markdown",
   "metadata": {},
   "source": [
    "#### average sampled data to get demand file   and get error matrix"
   ]
  },
  {
   "cell_type": "code",
   "execution_count": 362,
   "metadata": {},
   "outputs": [],
   "source": [
    "sampled_data = hist_data[hist_data.Date.dt.date.isin(omega_C)]"
   ]
  },
  {
   "cell_type": "code",
   "execution_count": 363,
   "metadata": {
    "scrolled": true
   },
   "outputs": [
    {
     "data": {
      "text/plain": [
       "480"
      ]
     },
     "execution_count": 363,
     "metadata": {},
     "output_type": "execute_result"
    }
   ],
   "source": [
    "len(sampled_data) #120[hours] = 5[days] * 24[hours/day] * 4[timesteps/hour]"
   ]
  },
  {
   "cell_type": "code",
   "execution_count": 364,
   "metadata": {},
   "outputs": [],
   "source": [
    "sampled_data = sampled_data.reset_index(drop = True)"
   ]
  },
  {
   "cell_type": "code",
   "execution_count": 365,
   "metadata": {
    "scrolled": true
   },
   "outputs": [],
   "source": [
    "hour_lst = pd.Series(range(96))\n",
    "Demand_pred = hour_lst.apply(lambda x: sampled_data\\\n",
    "                             [(sampled_data.Date.dt.minute/15 + sampled_data.Date.dt.hour * 4) == x]\\\n",
    "                             .Power.mean()/1000)"
   ]
  },
  {
   "cell_type": "code",
   "execution_count": 366,
   "metadata": {},
   "outputs": [
    {
     "data": {
      "text/plain": [
       "Text(0.5, 0, 'Time [h]')"
      ]
     },
     "execution_count": 366,
     "metadata": {},
     "output_type": "execute_result"
    },
    {
     "data": {
      "image/png": "[encoded data removed]",
      "text/plain": [
       "<Figure size 1080x360 with 1 Axes>"
      ]
     },
     "metadata": {
      "needs_background": "light"
     },
     "output_type": "display_data"
    }
   ],
   "source": [
    "plt.figure(figsize=(15,5))\n",
    "plt.plot(Demand_pred)\n",
    "plt.title('Aggregated EV charging power at EPFL (%d/%d/%d)'%(target_year,target_month,target_day))\n",
    "plt.ylabel(r'$P_{charging} [kW]$')\n",
    "plt.xlabel('Time [h]')"
   ]
  },
  {
   "cell_type": "code",
   "execution_count": 367,
   "metadata": {},
   "outputs": [],
   "source": [
    "Err = list()\n",
    "for i in omega_C:\n",
    "    Err.append(sampled_data[sampled_data.Date.dt.date == i]\\\n",
    "                    .Power.reset_index(drop = True)/1000 - Demand_pred)\n",
    "    "
   ]
  },
  {
   "cell_type": "code",
   "execution_count": 368,
   "metadata": {},
   "outputs": [],
   "source": [
    "Demand_pred = pd.DataFrame(Demand_pred)"
   ]
  },
  {
   "cell_type": "code",
   "execution_count": 369,
   "metadata": {},
   "outputs": [],
   "source": [
    "Demand_pred.columns = ['Power']"
   ]
  },
  {
   "cell_type": "code",
   "execution_count": 370,
   "metadata": {},
   "outputs": [],
   "source": [
    "Error = pd.DataFrame(Err).T"
   ]
  },
  {
   "cell_type": "code",
   "execution_count": 371,
   "metadata": {},
   "outputs": [],
   "source": [
    "Error.columns = omega_C"
   ]
  },
  {
   "cell_type": "code",
   "execution_count": 372,
   "metadata": {},
   "outputs": [],
   "source": [
    "Demand_pred.to_excel('data/demand_pred.xlsx',index = True, header = True)"
   ]
  },
  {
   "cell_type": "code",
   "execution_count": 373,
   "metadata": {},
   "outputs": [],
   "source": [
    "Error.to_excel('data/Error.xlsx',index = True, header = True)"
   ]
  },
  {
   "cell_type": "code",
   "execution_count": null,
   "metadata": {},
   "outputs": [],
   "source": []
  }
 ],
 "metadata": {
  "kernelspec": {
   "display_name": "Python 3",
   "language": "python",
   "name": "python3"
  },
  "language_info": {
   "codemirror_mode": {
    "name": "ipython",
    "version": 3
   },
   "file_extension": ".py",
   "mimetype": "text/x-python",
   "name": "python",
   "nbconvert_exporter": "python",
   "pygments_lexer": "ipython3",
   "version": "3.7.4"
  }
 },
 "nbformat": 4,
 "nbformat_minor": 2
}
