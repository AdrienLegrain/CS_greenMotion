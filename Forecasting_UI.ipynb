{
 "cells": [
  {
   "cell_type": "markdown",
   "metadata": {},
   "source": [
    "## This file is used to get forecasting data and error"
   ]
  },
  {
   "cell_type": "code",
   "execution_count": 39,
   "metadata": {},
   "outputs": [],
   "source": [
    "import pandas as pd\n",
    "import numpy as np\n",
    "import matplotlib.pyplot as plt\n",
    "pd.options.mode.chained_assignment = None  # default='warn', Mutes warnings when copying a slice from a DataFrame.\n",
    "import math\n",
    "from math import sqrt\n",
    "import re\n",
    "from datetime import datetime\n",
    "import datetime\n",
    "from sklearn import preprocessing\n",
    "import sys"
   ]
  },
  {
   "cell_type": "code",
   "execution_count": 40,
   "metadata": {},
   "outputs": [],
   "source": [
    "hist_data = pd.read_csv(\"data/base_data.csv\")"
   ]
  },
  {
   "cell_type": "code",
   "execution_count": 41,
   "metadata": {},
   "outputs": [],
   "source": [
    "hist_data.Day = pd.to_datetime(hist_data.Day)"
   ]
  },
  {
   "cell_type": "code",
   "execution_count": 42,
   "metadata": {},
   "outputs": [],
   "source": [
    "season = {1:'Winter', 2:'Spring', 3:'Spring', 4:'Spring', 5:'Summer', 6:'Summer', 7:'Summer',\\\n",
    "         8:'Fall', 9:'Fall', 10:'Fall', 11:'Winter', 12:'Winter'}"
   ]
  },
  {
   "cell_type": "markdown",
   "metadata": {},
   "source": [
    "#normalization\n",
    "Cha = ['TMP','WNDCHILL','WNDSPD','Humidity','PRMSL','RAIN']\n",
    "min_max_scaler = preprocessing.MinMaxScaler()\n",
    "hist_data[Cha] = min_max_scaler.fit_transform(hist_data[Cha]) "
   ]
  },
  {
   "cell_type": "markdown",
   "metadata": {},
   "source": [
    "  "
   ]
  },
  {
   "cell_type": "code",
   "execution_count": 219,
   "metadata": {},
   "outputs": [],
   "source": [
    "#target_date info.\n",
    "target_year = 2020  \n",
    "target_month = 5\n",
    "target_day = 7"
   ]
  },
  {
   "cell_type": "code",
   "execution_count": 220,
   "metadata": {},
   "outputs": [],
   "source": [
    "target_season = season[target_month]\n",
    "\n",
    "target_date = datetime.date(target_year, target_month, target_day)\n",
    "target_weekday = target_date.weekday() + 1"
   ]
  },
  {
   "cell_type": "code",
   "execution_count": 221,
   "metadata": {},
   "outputs": [],
   "source": [
    "tar_weather = pd.read_csv(\"data/target_day_weather.csv\", sep=',')"
   ]
  },
  {
   "cell_type": "markdown",
   "metadata": {},
   "source": [
    "        "
   ]
  },
  {
   "cell_type": "code",
   "execution_count": 222,
   "metadata": {},
   "outputs": [],
   "source": [
    "# get omega_A\n",
    "omega_A = hist_data[(hist_data.Season == target_season) & (hist_data.weekday == target_weekday)]"
   ]
  },
  {
   "cell_type": "code",
   "execution_count": 223,
   "metadata": {},
   "outputs": [],
   "source": [
    "def get_omega_B(omega_A):\n",
    "    time_lst = list(omega_A.Day.unique())\n",
    "    selected = list(time_lst)[-10:]\n",
    "    return selected"
   ]
  },
  {
   "cell_type": "code",
   "execution_count": 224,
   "metadata": {},
   "outputs": [],
   "source": [
    "omega_B = get_omega_B(omega_A)"
   ]
  },
  {
   "cell_type": "code",
   "execution_count": 225,
   "metadata": {},
   "outputs": [],
   "source": [
    "def weather_distance(X, target):\n",
    "    time_series = pd.Series([0,2,4,6,8,10,12,14,16,18,20,22])\n",
    "    \n",
    "    del_T = time_series.apply(lambda x: abs(target[target.Hour == x].Temperature.values \\\n",
    "                              - X[(X.Hour == x)].TMP.values)[0])\n",
    "    \n",
    "    del_W = time_series.apply(lambda x: abs(target[target.Hour == x].Wind.values \\\n",
    "                              - X[(X.Hour == x)].WNDSPD.values)[0])\n",
    "    \n",
    "    del_H = time_series.apply(lambda x: abs(target[target.Hour == x].Humidity.values \\\n",
    "                              -  X[(X.Hour == x)].Humidity.values)[0])\n",
    "    \n",
    "    del_P = time_series.apply(lambda x: abs(target[target.Hour == x].Pressure.values \\\n",
    "                              - X[(X.Hour == x)].PRMSL.values)[0])\n",
    "    \n",
    "    del_R = time_series.apply(lambda x: abs(target[target.Hour == x].Rain.values \\\n",
    "                              - X[(X.Hour == x)].RAIN.values)[0])\n",
    "    \n",
    "    return [del_T[del_T.notnull()].mean(), del_W[del_W.notnull()].mean(), del_H[del_H.notnull()].mean(), \\\n",
    "           del_P[del_P.notnull()].mean(), del_R[del_R.notnull()].mean()]"
   ]
  },
  {
   "cell_type": "code",
   "execution_count": 226,
   "metadata": {},
   "outputs": [],
   "source": [
    "del_matrix = list()\n",
    "for i in omega_B:  \n",
    "    del_matrix.append(weather_distance(omega_A[omega_A.Day == i], tar_weather)) #got weather distance of Omega_B's data"
   ]
  },
  {
   "cell_type": "code",
   "execution_count": 227,
   "metadata": {},
   "outputs": [],
   "source": [
    "min_max_scaler = preprocessing.MinMaxScaler()\n",
    "nor_mat = min_max_scaler.fit_transform(pd.DataFrame(del_matrix)).sum(axis = 1) #normalize the distance"
   ]
  },
  {
   "cell_type": "code",
   "execution_count": 228,
   "metadata": {},
   "outputs": [],
   "source": [
    "weather_dic = dict(zip(omega_B, nor_mat))\n",
    "sorted_wea_dis = sorted(weather_dic.items(), key=lambda d: d[1])"
   ]
  },
  {
   "cell_type": "code",
   "execution_count": 229,
   "metadata": {},
   "outputs": [],
   "source": [
    "omega_C = [x[0] for x in sorted_wea_dis[:5]]"
   ]
  },
  {
   "cell_type": "markdown",
   "metadata": {},
   "source": [
    "#### average sampled data to get demand file   and get error matrix"
   ]
  },
  {
   "cell_type": "code",
   "execution_count": 230,
   "metadata": {},
   "outputs": [],
   "source": [
    "sampled_data = hist_data[hist_data.Day.isin(omega_C)]"
   ]
  },
  {
   "cell_type": "code",
   "execution_count": 231,
   "metadata": {
    "scrolled": true
   },
   "outputs": [
    {
     "data": {
      "text/plain": [
       "120"
      ]
     },
     "execution_count": 231,
     "metadata": {},
     "output_type": "execute_result"
    }
   ],
   "source": [
    "len(sampled_data) #120[hours] = 5[days] * 24[hours/day]"
   ]
  },
  {
   "cell_type": "code",
   "execution_count": 232,
   "metadata": {},
   "outputs": [],
   "source": [
    "hour_lst = pd.Series(range(24))\n",
    "Demand_pred = hour_lst.apply(lambda x: sampled_data[sampled_data.Hour == x].Power.mean())"
   ]
  },
  {
   "cell_type": "code",
   "execution_count": 233,
   "metadata": {},
   "outputs": [
    {
     "data": {
      "text/plain": [
       "Text(0.5, 0, 'Time [h]')"
      ]
     },
     "execution_count": 233,
     "metadata": {},
     "output_type": "execute_result"
    },
    {
     "data": {
      "image/png": "[encoded data removed]",
      "text/plain": [
       "<Figure size 576x360 with 1 Axes>"
      ]
     },
     "metadata": {
      "needs_background": "light"
     },
     "output_type": "display_data"
    }
   ],
   "source": [
    "plt.figure(figsize=(8,5))\n",
    "plt.plot(Demand_pred/1000)\n",
    "plt.title('Aggregated EV charging power at EPFL (%d/%d/%d)'%(target_year,target_month,target_day))\n",
    "plt.ylabel(r'$P_{charging} [kW]$')\n",
    "plt.xlabel('Time [h]')"
   ]
  },
  {
   "cell_type": "code",
   "execution_count": 234,
   "metadata": {},
   "outputs": [],
   "source": [
    "Err = list()\n",
    "for i in omega_C:\n",
    "    Err.append(sampled_data[sampled_data.Day == i]\\\n",
    "                    .Power.reset_index(drop = True) - Demand_pred)\n",
    "    "
   ]
  },
  {
   "cell_type": "code",
   "execution_count": 235,
   "metadata": {},
   "outputs": [
    {
     "data": {
      "text/plain": [
       "0         0.000000\n",
       "1         0.000000\n",
       "2         0.000000\n",
       "3         0.000000\n",
       "4       131.650685\n",
       "5      8314.660762\n",
       "6     13395.427563\n",
       "7     19589.938433\n",
       "8     22470.419947\n",
       "9     25125.405031\n",
       "10    28334.640632\n",
       "11    31689.178797\n",
       "12    31926.244039\n",
       "13    28264.686487\n",
       "14    27459.016498\n",
       "15    23209.130032\n",
       "16    14962.607133\n",
       "17     4442.265097\n",
       "18     1583.807116\n",
       "19     2922.381029\n",
       "20     2609.813462\n",
       "21     1271.239549\n",
       "22       48.875912\n",
       "23       48.875912\n",
       "dtype: float64"
      ]
     },
     "execution_count": 235,
     "metadata": {},
     "output_type": "execute_result"
    }
   ],
   "source": [
    "Demand_pred"
   ]
  },
  {
   "cell_type": "code",
   "execution_count": null,
   "metadata": {},
   "outputs": [],
   "source": []
  }
 ],
 "metadata": {
  "kernelspec": {
   "display_name": "Python 3",
   "language": "python",
   "name": "python3"
  },
  "language_info": {
   "codemirror_mode": {
    "name": "ipython",
    "version": 3
   },
   "file_extension": ".py",
   "mimetype": "text/x-python",
   "name": "python",
   "nbconvert_exporter": "python",
   "pygments_lexer": "ipython3",
   "version": "3.7.4"
  }
 },
 "nbformat": 4,
 "nbformat_minor": 2
}
