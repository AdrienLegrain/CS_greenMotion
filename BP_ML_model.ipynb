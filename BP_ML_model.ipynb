{
 "cells": [
  {
   "cell_type": "code",
   "execution_count": 24,
   "metadata": {},
   "outputs": [],
   "source": [
    "from random import seed\n",
    "from random import randrange\n",
    "from random import random\n",
    "from csv import reader\n",
    "from math import exp"
   ]
  },
  {
   "cell_type": "code",
   "execution_count": 26,
   "metadata": {},
   "outputs": [],
   "source": [
    "def initialize_network(n_inputs, n_hidden, n_outputs):\n",
    "    network = list()\n",
    "    # weights number contains an extra one for input theta0 which is always 1 (according to coursera ml course)\n",
    "    hidden_layer = [{'weights': [random() for i in range(n_inputs + 1)]} for i in range(n_hidden)]\n",
    "    output_layer = [{'weights': [random() for i in range(n_hidden + 1)]} for i in range(n_outputs)]\n",
    "    network.append(hidden_layer)\n",
    "    network.append(output_layer)\n",
    "    return network"
   ]
  },
  {
   "cell_type": "code",
   "execution_count": 27,
   "metadata": {},
   "outputs": [],
   "source": [
    "def activate(weights, inputs):\n",
    "    # a = sum(w * input.T) + bias\n",
    "    activation = weights[-1]\n",
    "    for i in range(len(weights)-1):\n",
    "        activation += weights[i] * inputs[i]\n",
    "    return activation\n",
    "\n",
    "def transfer(activation):\n",
    "    # sigmoid or reLu or whatever\n",
    "    return 1.0/ (1.0 + exp(-activation))"
   ]
  },
  {
   "cell_type": "code",
   "execution_count": 28,
   "metadata": {},
   "outputs": [],
   "source": [
    "\n",
    "def forward_propagate(network, row):\n",
    "    inputs = row\n",
    "    for layer in network:\n",
    "        new_inputs = []\n",
    "        for neuron in layer:\n",
    "            activation = activate(neuron['weights'], inputs)\n",
    "            neuron['output'] = transfer(activation)\n",
    "            new_inputs.append(neuron['output'])\n",
    "        inputs = new_inputs\n",
    "    return inputs"
   ]
  },
  {
   "cell_type": "code",
   "execution_count": 29,
   "metadata": {},
   "outputs": [],
   "source": [
    "def transfer_derivative(output):\n",
    "    # d(sigmoid(z)) = z * (1-z), standard bp algorithm\n",
    "    return output * (1.0 - output)"
   ]
  },
  {
   "cell_type": "code",
   "execution_count": 30,
   "metadata": {},
   "outputs": [],
   "source": [
    "def backward_propagate(network, expected):\n",
    "    # error[i] = W * error[i+1] * sigmoid_derivative\n",
    "    for i in reversed(range(len(network))):\n",
    "        layer = network[i]\n",
    "        errors = list()\n",
    "\n",
    "        if i == len(network) - 1:\n",
    "            # first from output layer, just get the output difference\n",
    "            # note: our difference is expected - output, some other implementing uses output-expected\n",
    "            #       which causes the weight update is different (weight = weight +/- ....)\n",
    "            for j in range(len(layer)):\n",
    "                neuron = layer[j]\n",
    "                errors.append(expected[j] - neuron['output'])\n",
    "        else:\n",
    "            for j in range(len(layer)):\n",
    "                error = 0.0\n",
    "                for neuron in network[i+1]:\n",
    "                    # neuron['delta'] saves errors[i+1] * sigmoid_derivateive\n",
    "                    error += (neuron['weights'][j] * neuron['delta'])\n",
    "                errors.append(error)\n",
    "\n",
    "        for j in range(len(layer)):\n",
    "            neuron = layer[j]\n",
    "            neuron['delta'] = errors[j] * transfer_derivative(neuron['output'])"
   ]
  },
  {
   "cell_type": "code",
   "execution_count": 31,
   "metadata": {},
   "outputs": [],
   "source": [
    "def update_weights(network, row, learning_rate):\n",
    "    for i in range(len(network)):\n",
    "        inputs = row[:-1]\n",
    "        if i != 0:\n",
    "            # for hidden layer and output layer\n",
    "            inputs = [neuron['output'] for neuron in network[i-1]]\n",
    "        for neuron in network[i]:\n",
    "            for j in range(len(inputs)):\n",
    "                neuron['weights'][j] += learning_rate * neuron['delta'] * inputs[j]\n",
    "            # theta0 is always 1 (explained on coursera ml course)\n",
    "            neuron['weights'][-1] += learning_rate * neuron['delta']"
   ]
  },
  {
   "cell_type": "code",
   "execution_count": 32,
   "metadata": {},
   "outputs": [],
   "source": [
    "def train_network(network, training_data, learning_rate, n_epoch, n_outputs):\n",
    "    for epoch in range(n_epoch):\n",
    "        sum_error = 0\n",
    "        for row in training_data:\n",
    "            outputs = forward_propagate(network, row)\n",
    "            # this is a trick to set the bi-class flag by using the row[-1] as class index\n",
    "            # expected[0] = 1: expected to be class 1\n",
    "            # expected[1] = 1: expected to be class 2\n",
    "            expected = [0 for i in range(n_outputs)]\n",
    "            expected[row[-1]] = 1\n",
    "            sum_error += sum([(expected[i] - outputs[i])**2 for i in range(len(expected))])\n",
    "            backward_propagate(network, expected)\n",
    "            update_weights(network, row, learning_rate)\n",
    "        print('>epoch: %d, learning rate: %.3f, error: %.3f' % (epoch, learning_rate, sum_error))"
   ]
  },
  {
   "cell_type": "code",
   "execution_count": 33,
   "metadata": {},
   "outputs": [],
   "source": [
    "def predict(network, row):\n",
    "    outputs = forward_propagate(network, row)\n",
    "    return outputs.index(max(outputs))"
   ]
  },
  {
   "cell_type": "code",
   "execution_count": 34,
   "metadata": {},
   "outputs": [],
   "source": [
    "seed(1)\n",
    "dataset = [[2.7810836,2.550537003,0],\n",
    "    [3.396561688,4.400293529,0],\n",
    "    [1.38807019,1.850220317,0],\n",
    "    [3.06407232,3.005305973,0],\n",
    "    [7.627531214,2.759262235,1],\n",
    "    [5.332441248,2.088626775,1],\n",
    "    [6.922596716,1.77106367,1]]\n",
    "\n",
    "test_data = [[1.465489372,2.362125076,0],\n",
    "            [8.675418651,-0.242068655,1],\n",
    "            [7.673756466,3.508563011,1]]"
   ]
  },
  {
   "cell_type": "code",
   "execution_count": 35,
   "metadata": {},
   "outputs": [],
   "source": [
    "n_inputs = len(dataset[0]) - 1\n",
    "n_outputs = len(set([row[-1] for row in dataset]))\n",
    "network = initialize_network(n_inputs, 2, n_outputs)"
   ]
  },
  {
   "cell_type": "code",
   "execution_count": 36,
   "metadata": {},
   "outputs": [
    {
     "name": "stdout",
     "output_type": "stream",
     "text": [
      ">epoch: 0, learning rate: 0.500, error: 4.552\n",
      ">epoch: 1, learning rate: 0.500, error: 4.096\n",
      ">epoch: 2, learning rate: 0.500, error: 3.837\n",
      ">epoch: 3, learning rate: 0.500, error: 3.723\n",
      ">epoch: 4, learning rate: 0.500, error: 3.675\n",
      ">epoch: 5, learning rate: 0.500, error: 3.639\n",
      ">epoch: 6, learning rate: 0.500, error: 3.564\n",
      ">epoch: 7, learning rate: 0.500, error: 3.351\n",
      ">epoch: 8, learning rate: 0.500, error: 3.104\n",
      ">epoch: 9, learning rate: 0.500, error: 2.936\n",
      ">epoch: 10, learning rate: 0.500, error: 2.772\n",
      ">epoch: 11, learning rate: 0.500, error: 2.609\n",
      ">epoch: 12, learning rate: 0.500, error: 2.452\n",
      ">epoch: 13, learning rate: 0.500, error: 2.302\n",
      ">epoch: 14, learning rate: 0.500, error: 2.160\n",
      ">epoch: 15, learning rate: 0.500, error: 2.025\n",
      ">epoch: 16, learning rate: 0.500, error: 1.898\n",
      ">epoch: 17, learning rate: 0.500, error: 1.778\n",
      ">epoch: 18, learning rate: 0.500, error: 1.665\n",
      ">epoch: 19, learning rate: 0.500, error: 1.559\n"
     ]
    }
   ],
   "source": [
    "train_network(network, dataset, 0.5, 20, n_outputs)"
   ]
  },
  {
   "cell_type": "code",
   "execution_count": 37,
   "metadata": {},
   "outputs": [
    {
     "name": "stdout",
     "output_type": "stream",
     "text": [
      "[{'weights': [-1.2246790365115097, 1.3996433065336849, 0.8949380576308104], 'output': 0.006315766771442927, 'delta': -0.0017592839982281954}, {'weights': [-0.6090349935879645, 0.4575953424359335, 0.39665209473867746], 'output': 0.05149040062765862, 'delta': -0.003669856446819181}]\n",
      "[{'weights': [1.4832174364686508, 0.8743539519385077, -0.6993684618309463], 'output': 0.3533129292136433, 'delta': -0.08072596382748318}, {'weights': [-1.6817779512471187, -0.04353972263227037, 0.4732254665854996], 'output': 0.6016880911479875, 'delta': 0.09545924571277106}]\n"
     ]
    }
   ],
   "source": [
    "for layer in network:\n",
    "    print(layer)"
   ]
  },
  {
   "cell_type": "code",
   "execution_count": 38,
   "metadata": {},
   "outputs": [
    {
     "name": "stdout",
     "output_type": "stream",
     "text": [
      "expected: 0, predicted: 0\n",
      "\n",
      "expected: 1, predicted: 1\n",
      "\n",
      "expected: 1, predicted: 1\n",
      "\n"
     ]
    }
   ],
   "source": [
    "for row in test_data:\n",
    "    result = predict(network, row)\n",
    "    print('expected: %d, predicted: %d\\n' % (row[-1], result))"
   ]
  },
  {
   "cell_type": "code",
   "execution_count": null,
   "metadata": {},
   "outputs": [],
   "source": []
  }
 ],
 "metadata": {
  "kernelspec": {
   "display_name": "Python 3",
   "language": "python",
   "name": "python3"
  },
  "language_info": {
   "codemirror_mode": {
    "name": "ipython",
    "version": 3
   },
   "file_extension": ".py",
   "mimetype": "text/x-python",
   "name": "python",
   "nbconvert_exporter": "python",
   "pygments_lexer": "ipython3",
   "version": "3.7.6"
  }
 },
 "nbformat": 4,
 "nbformat_minor": 4
}
